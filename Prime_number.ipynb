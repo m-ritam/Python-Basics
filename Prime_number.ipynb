{
  "nbformat": 4,
  "nbformat_minor": 0,
  "metadata": {
    "colab": {
      "provenance": [],
      "authorship_tag": "ABX9TyP/gXGMB6MemE0/+Z94DzlI",
      "include_colab_link": true
    },
    "kernelspec": {
      "name": "python3",
      "display_name": "Python 3"
    },
    "language_info": {
      "name": "python"
    }
  },
  "cells": [
    {
      "cell_type": "markdown",
      "metadata": {
        "id": "view-in-github",
        "colab_type": "text"
      },
      "source": [
        "<a href=\"https://colab.research.google.com/github/m-ritam/Python-Basics/blob/main/Prime_number.ipynb\" target=\"_parent\"><img src=\"https://colab.research.google.com/assets/colab-badge.svg\" alt=\"Open In Colab\"/></a>"
      ]
    },
    {
      "cell_type": "code",
      "source": [
        "n=int(input(\"Enter the number:\"))\n",
        "\n",
        "for i in range(2,n):\n",
        "    if n%i==0:\n",
        "        print(n,\"is not a prime number\")\n",
        "        break\n",
        "else:\n",
        "    print(n,\"is a Prime Number\")"
      ],
      "metadata": {
        "id": "1BdfAYtbQ9uP"
      },
      "execution_count": null,
      "outputs": []
    }
  ]
}