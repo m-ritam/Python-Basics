{
  "nbformat": 4,
  "nbformat_minor": 0,
  "metadata": {
    "colab": {
      "provenance": [],
      "authorship_tag": "ABX9TyOiXqx3Bua92E4BXAEayBEE",
      "include_colab_link": true
    },
    "kernelspec": {
      "name": "python3",
      "display_name": "Python 3"
    },
    "language_info": {
      "name": "python"
    }
  },
  "cells": [
    {
      "cell_type": "markdown",
      "metadata": {
        "id": "view-in-github",
        "colab_type": "text"
      },
      "source": [
        "<a href=\"https://colab.research.google.com/github/m-ritam/Python-Basics/blob/main/ASMD_calculator.ipynb\" target=\"_parent\"><img src=\"https://colab.research.google.com/assets/colab-badge.svg\" alt=\"Open In Colab\"/></a>"
      ]
    },
    {
      "cell_type": "code",
      "execution_count": null,
      "metadata": {
        "id": "j_oOwIp0yF5n"
      },
      "outputs": [],
      "source": [
        "process = str(input(\"Enter '+' for Addition\\nEnter '-' for Substraction\\nEnter '*' for Multiplication\\nEnter '/' for division\\n\"))\n",
        "if process == '+':\n",
        " x = int(input('Enter first number:'))\n",
        " y = int(input('Enter second number:'))\n",
        " print('Ans:',x+y)\n",
        "elif process == '-':\n",
        " x = int(input('Enter first number:'))\n",
        " y = int(input('Enter second number:'))\n",
        " print('Ans:',x-y)\n",
        "elif process == '*':\n",
        " x = int(input('Enter first number:'))\n",
        " y = int(input('Enter second number:'))\n",
        " print('Ans:',x*y)\n",
        "elif process == '/':\n",
        "  x = int(input('Enter first number:'))\n",
        "  y = int(input('Enter second number:'))\n",
        "  print('Ans:',x//y)\n",
        "else:\n",
        "  print('Invalid output')\n",
        "\n",
        "\n",
        "\n"
      ]
    }
  ]
}