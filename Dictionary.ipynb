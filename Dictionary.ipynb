{
  "cells": [
    {
      "cell_type": "markdown",
      "metadata": {
        "id": "view-in-github",
        "colab_type": "text"
      },
      "source": [
        "<a href=\"https://colab.research.google.com/github/m-ritam/Python-Basics/blob/main/Dictionary.ipynb\" target=\"_parent\"><img src=\"https://colab.research.google.com/assets/colab-badge.svg\" alt=\"Open In Colab\"/></a>"
      ]
    },
    {
      "cell_type": "code",
      "source": [
        "num = {'physics': 80, 'math': 90, 'chemistry': 86}\n",
        "print(num['physics'])  # Output: 80\n",
        "print(num['math'])  # Output: 90"
      ],
      "metadata": {
        "colab": {
          "base_uri": "https://localhost:8080/"
        },
        "id": "Kw3SNyUiElZ6",
        "outputId": "06e2d0eb-9193-4ab2-97de-01ddf7745641"
      },
      "execution_count": 1,
      "outputs": [
        {
          "output_type": "stream",
          "name": "stdout",
          "text": [
            "80\n",
            "90\n"
          ]
        }
      ]
    },
    {
      "cell_type": "code",
      "execution_count": null,
      "metadata": {
        "id": "UTOIySz6OQns"
      },
      "outputs": [],
      "source": [
        "capitals={'TN':'Chennai',\"WB\":\"Kol\",'Maha':'Mum'}\n",
        "print(capitals)\n",
        "old={'TN':'Chennai''Madras',\"WB\":\"Kol\",'Maha':'Mum'}\n",
        "#print(old)\n",
        "print(capitals['WB'])"
      ]
    },
    {
      "cell_type": "code",
      "execution_count": null,
      "metadata": {
        "id": "ZlhrNGE8OvcH"
      },
      "outputs": [],
      "source": [
        "capitals={'TN':'Chennai',\"West Bengal\":\"Kol\",'Maha':'Mum'}\n",
        "print(capitals['TN'])\n",
        "#print(capitals['Mum'])"
      ]
    },
    {
      "cell_type": "code",
      "execution_count": null,
      "metadata": {
        "id": "aWqIUDq7QJlu"
      },
      "outputs": [],
      "source": [
        "capitals={'TN':'Chennai',\"WB\":\"Kol\",'Maha':'Mum','Andhra':'Amravati'}\n",
        "capitals['Andhra']='Visha' #modification\n",
        "print('After modification ',capitals['Andhra'])"
      ]
    },
    {
      "cell_type": "code",
      "execution_count": null,
      "metadata": {
        "id": "RSS1kXtnQ19B"
      },
      "outputs": [],
      "source": [
        "#modification\n",
        "capitals={'TN':'Chennai',\"WB\":\"Kol\",'Maha':'Mum','Andhra':'Amravati'}\n",
        "capitals['Andhra']='Visha' #modification\n",
        "print('After modification ',capitals)"
      ]
    },
    {
      "cell_type": "code",
      "execution_count": null,
      "metadata": {
        "id": "t-Zz9m0zRqdR"
      },
      "outputs": [],
      "source": [
        "#deleting\n",
        "capitals={'TN':'Chennai',\"WB\":\"Kol\",'Maha':'Mum','Andhra':'Amravati'}\n",
        "print(capitals)\n",
        "del capitals['Maha']\n",
        "print(capitals)"
      ]
    },
    {
      "cell_type": "code",
      "execution_count": null,
      "metadata": {
        "id": "UH-lWXrSSCmA"
      },
      "outputs": [],
      "source": [
        "#adding\n",
        "capitals={'TN':'Chennai',\"WB\":\"Kol\",'Maha':'Mum','Andhra':'Amravati'}\n",
        "print(capitals)\n",
        "capitals['Assam']='Dispur'\n",
        "print(capitals)"
      ]
    },
    {
      "cell_type": "code",
      "execution_count": null,
      "metadata": {
        "id": "V-PwYhVqT371"
      },
      "outputs": [],
      "source": [
        "# creating a new dictionary\n",
        "my_dict ={\"Java\":100, \"Python\":112, \"C\":11}\n",
        "\n",
        "# one-liner\n",
        "print(\"One line Code Key value: \", list(my_dict.keys())\n",
        "[list(my_dict.values()).index(100)])"
      ]
    },
    {
      "cell_type": "code",
      "source": [
        "capitals={'TN': 'Chennai', 'WB': 'Kol', 'Maha': 'Mum', 'Andhra':'Amravati', 'Assam': 'Dispur'}\n",
        "capitals['Andhra']='vijag'\n",
        "for i in capitals:\n",
        "    print('Capital of',i,'is',capitals[i])"
      ],
      "metadata": {
        "id": "P8YjkfzICm49"
      },
      "execution_count": null,
      "outputs": []
    },
    {
      "cell_type": "code",
      "source": [
        "capitals={'TN': 'Chennai', 'WB': 'Kol', 'Maha': 'Mum', 'Andhra':'Amravati', 'Assam': 'Dispur'}\n",
        "capitals['Andhra']='Vijag'\n",
        "for i in capitals:\n",
        "  print(i,capitals[i])"
      ],
      "metadata": {
        "id": "oOypkhxMDBvS"
      },
      "execution_count": null,
      "outputs": []
    },
    {
      "cell_type": "code",
      "source": [
        "statesAndCapitals = {\n",
        "    'Gujarat': 'Gandhinagar',\n",
        "    'Maharashtra': 'Mumbai',\n",
        "    'Rajasthan': 'Jaipur',\n",
        "    'Bihar': 'Patna'\n",
        "}\n",
        "x = statesAndCapitals.values()\n",
        "print(x)"
      ],
      "metadata": {
        "id": "khhOJ66jJMm1"
      },
      "execution_count": null,
      "outputs": []
    },
    {
      "cell_type": "code",
      "source": [
        "# Create a dictionary\n",
        "my_dict = {'a': 1, 'b': 2, 'c': 3}\n",
        "\n",
        "# Access the value associated with the key 'b' using the get() method\n",
        "value_of_b = my_dict.get('b')\n",
        "\n",
        "# Print the value of 'b'\n",
        "print(value_of_b)"
      ],
      "metadata": {
        "colab": {
          "base_uri": "https://localhost:8080/"
        },
        "id": "7loLOTXnKRdC",
        "outputId": "22e1bed9-2c58-49cd-bae5-d09ba2bc91dd"
      },
      "execution_count": null,
      "outputs": [
        {
          "output_type": "stream",
          "name": "stdout",
          "text": [
            "2\n"
          ]
        }
      ]
    }
  ],
  "metadata": {
    "colab": {
      "provenance": [],
      "authorship_tag": "ABX9TyPIhOvaaci3FoqorrTQ1yOx",
      "include_colab_link": true
    },
    "kernelspec": {
      "display_name": "Python 3",
      "name": "python3"
    },
    "language_info": {
      "name": "python"
    }
  },
  "nbformat": 4,
  "nbformat_minor": 0
}