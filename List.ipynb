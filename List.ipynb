{
  "cells": [
    {
      "cell_type": "markdown",
      "metadata": {
        "id": "view-in-github",
        "colab_type": "text"
      },
      "source": [
        "<a href=\"https://colab.research.google.com/github/m-ritam/Python-Basics/blob/main/List.ipynb\" target=\"_parent\"><img src=\"https://colab.research.google.com/assets/colab-badge.svg\" alt=\"Open In Colab\"/></a>"
      ]
    },
    {
      "cell_type": "code",
      "execution_count": null,
      "metadata": {
        "id": "fMi1YCuc3-NJ"
      },
      "outputs": [],
      "source": [
        "# print every elemnt in list\n",
        "xlist=[10,20,30,40,50,60,'ok']\n",
        "for i in xlist:\n",
        "  print(i)"
      ]
    },
    {
      "cell_type": "code",
      "source": [
        "L1={'a':1,'b':2}\n",
        "print(L1)"
      ],
      "metadata": {
        "id": "Rwlk3DSht0sI",
        "colab": {
          "base_uri": "https://localhost:8080/"
        },
        "outputId": "3525888f-c2e0-4088-ee14-c3bdfc7e7cb6"
      },
      "execution_count": 1,
      "outputs": [
        {
          "output_type": "stream",
          "name": "stdout",
          "text": [
            "{'a': 1, 'b': 2}\n"
          ]
        }
      ]
    },
    {
      "cell_type": "code",
      "execution_count": null,
      "metadata": {
        "id": "R5RCbCGI7ZF2",
        "colab": {
          "base_uri": "https://localhost:8080/"
        },
        "outputId": "c6a88c29-5459-436b-c7e1-5a79049c656f"
      },
      "outputs": [
        {
          "output_type": "stream",
          "name": "stdout",
          "text": [
            "210\n"
          ]
        }
      ],
      "source": [
        "xlist=[10,20,30,40,50,60]\n",
        "y=sum(xlist)\n",
        "print(y)"
      ]
    },
    {
      "cell_type": "code",
      "execution_count": null,
      "metadata": {
        "id": "V03ovRpeo6h-"
      },
      "outputs": [],
      "source": [
        "L1=[10,20,30,40,50,60,'ok']\n",
        "print(L1)\n",
        "print(L1[4])\n",
        "print(L1[6])\n",
        "L1[1]='j' #replace a list element\n",
        "print(L1)"
      ]
    },
    {
      "cell_type": "code",
      "execution_count": null,
      "metadata": {
        "id": "TjYOCYprq1Px"
      },
      "outputs": [],
      "source": [
        "L1=[10,20,30,40,50,60,'ok']\n",
        "del L1[3]\n",
        "print(L1)"
      ]
    },
    {
      "cell_type": "code",
      "execution_count": null,
      "metadata": {
        "id": "rDnCH-I6sAia"
      },
      "outputs": [],
      "source": [
        "L1=[10,20,30,40,50,60,'ok']\n",
        "for i in L1:\n",
        "  print(i)"
      ]
    },
    {
      "cell_type": "code",
      "source": [
        "my_list = [7,1, 2, 2, 3, 3, 4, 5, 5]\n",
        "new_list = []\n",
        "for i in my_list:\n",
        "    if i not in new_list:\n",
        "        new_list.append(i)\n",
        "print(new_list)"
      ],
      "metadata": {
        "colab": {
          "base_uri": "https://localhost:8080/"
        },
        "id": "CbtfnxvdPbth",
        "outputId": "e4a8e24a-76ea-4ecc-c1c0-13b703266369"
      },
      "execution_count": null,
      "outputs": [
        {
          "output_type": "stream",
          "name": "stdout",
          "text": [
            "[7, 1, 2, 3, 4, 5]\n"
          ]
        }
      ]
    },
    {
      "cell_type": "code",
      "source": [
        "my_list = [7,1, 2, 2, 3, 3, 4, 5, 5]\n",
        "new_list = []\n",
        "for i in my_list:\n",
        "    if i not in new_list:\n",
        "        new_list.append(i)\n",
        "print(new_list)"
      ],
      "metadata": {
        "id": "snrBRa8PPwDU"
      },
      "execution_count": null,
      "outputs": []
    },
    {
      "cell_type": "code",
      "execution_count": null,
      "metadata": {
        "id": "RTKNk4pbsm0-"
      },
      "outputs": [],
      "source": [
        "L1=[10,20,30,40,50,60,'ok']\n",
        "for i in range (len(L1)):\n",
        "  print(i)"
      ]
    },
    {
      "cell_type": "code",
      "execution_count": null,
      "metadata": {
        "id": "eoZ3nSEQtsbE",
        "colab": {
          "base_uri": "https://localhost:8080/"
        },
        "outputId": "9c73b23f-cdc6-4dca-9ffb-2da710029531"
      },
      "outputs": [
        {
          "output_type": "stream",
          "name": "stdout",
          "text": [
            "[10, 20, 30, 40, 50, 60, 'ok', 4, 9, 30, 39]\n",
            "[10, 20, 29, 30, 40, 50, 60, 'ok', 4, 9, 30, 39]\n",
            "2\n"
          ]
        }
      ],
      "source": [
        "xlist=[10,20,30,40,50,60,'ok']\n",
        "xlist.append(4)\n",
        "xlist.append(9)\n",
        "xlist.append(30)\n",
        "xlist.append(39)\n",
        "print(xlist)\n",
        "# insert at exact space like 2nd place for 2\n",
        "xlist.insert(2,29)\n",
        "print(xlist)\n",
        "# how many times a specific int is in list\n",
        "print(xlist.count(30))\n"
      ]
    },
    {
      "cell_type": "code",
      "execution_count": null,
      "metadata": {
        "id": "unbSJQI3vstg"
      },
      "outputs": [],
      "source": [
        "xlist=[10,20,30,40,50,60,'ok']\n",
        "xlist.remove(30)\n",
        "print(xlist)\n",
        "xlist.reverse()\n",
        "print(xlist)"
      ]
    },
    {
      "cell_type": "code",
      "source": [
        "xlist=[10,20,30,40,50,60,'ok']\n",
        "xlist.remove(20)\n",
        "print(xlist)"
      ],
      "metadata": {
        "colab": {
          "base_uri": "https://localhost:8080/"
        },
        "id": "j55VTyKuR5Ti",
        "outputId": "42ee5d35-6d2f-477c-8125-306f88e54dc7"
      },
      "execution_count": null,
      "outputs": [
        {
          "output_type": "stream",
          "name": "stdout",
          "text": [
            "[10, 30, 40, 50, 60, 'ok']\n"
          ]
        }
      ]
    },
    {
      "cell_type": "code",
      "execution_count": null,
      "metadata": {
        "id": "PJcHigpSyojC",
        "colab": {
          "base_uri": "https://localhost:8080/"
        },
        "outputId": "2d9676e7-14f5-48cd-d680-409dea9d75c7"
      },
      "outputs": [
        {
          "output_type": "stream",
          "name": "stdout",
          "text": [
            "['ok', 60, 50, 40, 30, 20, 10]\n",
            "['ok', 60, 50, 40, 30, 20, 10]\n"
          ]
        }
      ],
      "source": [
        "xlist=[10,20,30,40,50,60,'ok']\n",
        "xlist.reverse()\n",
        "y=xlist\n",
        "print(xlist)\n",
        "print(y)"
      ]
    },
    {
      "cell_type": "code",
      "execution_count": null,
      "metadata": {
        "id": "1rd66xzLxZ7G"
      },
      "outputs": [],
      "source": [
        "xlist=[10,20,30,40,50,60,70,4,18]\n",
        "# ascending order\n",
        "xlist.sort()\n",
        "print(xlist)"
      ]
    },
    {
      "cell_type": "code",
      "execution_count": null,
      "metadata": {
        "colab": {
          "base_uri": "https://localhost:8080/"
        },
        "id": "gKrguQ9ByFB-",
        "outputId": "fc16d729-7546-4fdf-df5c-bfb6cb4ec57a"
      },
      "outputs": [
        {
          "output_type": "stream",
          "name": "stdout",
          "text": [
            "[10, 20, 40, 50, 60, 'ok']\n"
          ]
        }
      ],
      "source": [
        "xlist=[10,20,30,40,50,60,'ok']\n",
        "# pop remove a element with index\n",
        "xlist.pop(2)\n",
        "print(xlist)"
      ]
    },
    {
      "cell_type": "code",
      "source": [
        "xlist=[10,20,30,40,50,60,\"ok\"]\n",
        "xlist.remove('ok')\n",
        "print(xlist)"
      ],
      "metadata": {
        "id": "UbUBero-s2Yi"
      },
      "execution_count": null,
      "outputs": []
    },
    {
      "cell_type": "code",
      "source": [
        "L=[100, 20, 8, 100, 13, 20, 5, 6, 90, 77, 4, 29, 33, 21,-88, -15, 4,6, 77, 100]\n",
        "d=0\n",
        "e=3\n",
        "\n",
        "if L[d]==L[e]:\n",
        "  L.pop(e)\n",
        "  print(L)"
      ],
      "metadata": {
        "id": "tCw_ZMTIWMsu"
      },
      "execution_count": null,
      "outputs": []
    },
    {
      "cell_type": "code",
      "source": [
        "L=[100, 20, 8, 100, 13, 20, 5, 6, 90, 77, 4, 29, 33, 21,-88, -15, 4,6, 77, 100]\n",
        "L0=L\n",
        "print(L.count(100))\n",
        "#print(L[2])\n",
        "for j in L:\n",
        "  if L.count(j)>=2:\n",
        "    L.remove(j)\n",
        "print(L)"
      ],
      "metadata": {
        "id": "-YqyG1TeYDYq",
        "colab": {
          "base_uri": "https://localhost:8080/"
        },
        "outputId": "7e072948-b1fe-41d8-a667-132dac348bfe"
      },
      "execution_count": null,
      "outputs": [
        {
          "output_type": "stream",
          "name": "stdout",
          "text": [
            "3\n",
            "[8, 13, 20, 5, 90, 29, 33, 21, -88, -15, 4, 6, 77, 100]\n"
          ]
        }
      ]
    },
    {
      "cell_type": "code",
      "execution_count": null,
      "metadata": {
        "id": "aSwDiJWXzMpl",
        "colab": {
          "base_uri": "https://localhost:8080/"
        },
        "outputId": "fbc66141-5f5f-49cd-bfb3-fabea21629c9"
      },
      "outputs": [
        {
          "output_type": "stream",
          "name": "stdout",
          "text": [
            "70\n",
            "10\n"
          ]
        }
      ],
      "source": [
        "# maximum and minimum\n",
        "xlist=[10,20,30,40,50,60,70]\n",
        "y=max(xlist)\n",
        "z=min(xlist)\n",
        "print(y)\n",
        "print(z)"
      ]
    },
    {
      "cell_type": "code",
      "execution_count": null,
      "metadata": {
        "id": "lou7ell0zjSz",
        "colab": {
          "base_uri": "https://localhost:8080/"
        },
        "outputId": "ed961a16-3f70-4d47-d030-ede141e63e58"
      },
      "outputs": [
        {
          "output_type": "stream",
          "name": "stdout",
          "text": [
            "10\n",
            "20\n",
            "30\n",
            "40\n",
            "50\n",
            "60\n",
            "70\n"
          ]
        }
      ],
      "source": [
        "xlist=[10,20,30,40,50,60,70]\n",
        "def full_list(xlist):\n",
        "  for i in xlist:\n",
        "    print(i)\n",
        "full_list(xlist)"
      ]
    },
    {
      "cell_type": "code",
      "execution_count": null,
      "metadata": {
        "id": "Nkq-Vkkg0s-0"
      },
      "outputs": [],
      "source": [
        "xlist=[10,20,30,40,50,60,70]\n",
        "def m_list(LIST):\n",
        "  empty=[]\n",
        "  for i in LIST:\n",
        "    empty.append(i+5)\n",
        "  return empty\n",
        "l1=(m_list(xlist))\n",
        "print(l1)"
      ]
    },
    {
      "cell_type": "code",
      "execution_count": null,
      "metadata": {
        "id": "KAWyESKdWz4o"
      },
      "outputs": [],
      "source": [
        "# take input of a list\n",
        "L1=[]\n",
        "length=int(input('Enter length:'))\n",
        "for i in range(length):\n",
        "  n=int(input('Enter :'))\n",
        "  L1.append(n)\n",
        "print(L1)"
      ]
    },
    {
      "cell_type": "code",
      "execution_count": null,
      "metadata": {
        "id": "IHbFO8R83u01"
      },
      "outputs": [],
      "source": [
        "# Write a python program to compute the sum of odd and even numbers for a given list.\n",
        "L=[124,43,83,52,89,30,85,]\n",
        "s1=0\n",
        "s2=0\n",
        "for item in L:\n",
        "  #print(item)\n",
        "  if item%2==0:\n",
        "    #print(item,'is EVEN')\n",
        "    s1=s1+item\n",
        "  else:\n",
        "   # print(item,'is ODD')\n",
        "   s2=s2+item\n",
        "print('sum even:',s1)\n",
        "print('sum odd:',s2)\n",
        "\n"
      ]
    },
    {
      "cell_type": "code",
      "execution_count": null,
      "metadata": {
        "colab": {
          "base_uri": "https://localhost:8080/"
        },
        "id": "ABmEwrtK50gt",
        "outputId": "1bb6f5a1-053c-4654-87fa-696c22f9d9fc"
      },
      "outputs": [
        {
          "name": "stdout",
          "output_type": "stream",
          "text": [
            "average 237.05\n"
          ]
        }
      ],
      "source": [
        "# 2.  Write a python program to update a list with 10 random integers between the range -50 to\n",
        "# 500 and compute the average value.\n",
        "L1=[]\n",
        "for i in range(10):\n",
        "  from random import randint\n",
        "  ran= randint(-50,500)\n",
        "  L1.append(ran)\n",
        "#print(empty)\n",
        "avg = sum(L1)/len(L1)\n",
        "print('average',avg)"
      ]
    },
    {
      "cell_type": "code",
      "execution_count": null,
      "metadata": {
        "id": "1AOggLDsMO9R"
      },
      "outputs": [],
      "source": [
        "# 3.  Write a python program to create compute the cube value each element in list L1 an store them in L3\n",
        "L1=[4,6,90,44,53,11]\n",
        "L3=[]\n",
        "for i in L1:\n",
        "  n=i**3\n",
        "  #print(n)\n",
        "  L3.append(n)\n",
        "print(L3)\n",
        "\n"
      ]
    },
    {
      "cell_type": "code",
      "execution_count": null,
      "metadata": {
        "colab": {
          "base_uri": "https://localhost:8080/"
        },
        "id": "ofsLXHbeNAny",
        "outputId": "b87caaa6-d1cb-4f91-8b2f-6b359b449983"
      },
      "outputs": [
        {
          "name": "stdout",
          "output_type": "stream",
          "text": [
            "[2, 720, 479001600, 362880]\n"
          ]
        }
      ],
      "source": [
        "#4.   Compute the factorial of each element of the list, L1 and store the factorial value results into L2.\n",
        "L1=[2,6,12,9]\n",
        "L2=[]\n",
        "for j in L1:\n",
        "    a=1\n",
        "    for n in range(1,j+1):\n",
        "        a=n*a\n",
        "    L2.append(a)\n",
        "print(L2)\n",
        ""
      ]
    },
    {
      "cell_type": "code",
      "execution_count": null,
      "metadata": {
        "colab": {
          "base_uri": "https://localhost:8080/"
        },
        "id": "xxDsOb-qa67C",
        "outputId": "e38c175d-2de8-4a41-9b01-859348aa7f9b"
      },
      "outputs": [
        {
          "name": "stdout",
          "output_type": "stream",
          "text": [
            "n=6\n",
            "[1, 2, 3, 4, 5, 6]\n"
          ]
        }
      ],
      "source": [
        "#5.   Write a program to print counter values from 1 to n using a while loop and store them in a list.\n",
        "n=int(input(\"n=\"))\n",
        "a=0\n",
        "L=[]\n",
        "while (a<n):\n",
        "  a=a+1\n",
        "  L.append(a)\n",
        "print(L)"
      ]
    },
    {
      "cell_type": "code",
      "execution_count": null,
      "metadata": {
        "colab": {
          "base_uri": "https://localhost:8080/"
        },
        "id": "qsT0e-BKYDhl",
        "outputId": "f061e03f-8f9a-49fc-940a-5675e004cc34"
      },
      "outputs": [
        {
          "name": "stdout",
          "output_type": "stream",
          "text": [
            "[1, 11, 12, 13, 13, 16, 18, 22, 23, 25, 29, 29, 29, 34, 34, 38, 45, 46, 46, 48]\n"
          ]
        }
      ],
      "source": [
        "#6.  Write a python program to update a list with 20 random integers between the range 1 to\n",
        "# 50 and sort them in ascending order.\n",
        "L1=[]\n",
        "from random import randint\n",
        "for i in range(20):\n",
        "  r=randint(1,50)\n",
        "  L1.append(r)\n",
        "  L1.sort()\n",
        "print(L1)"
      ]
    },
    {
      "cell_type": "code",
      "execution_count": null,
      "metadata": {
        "id": "ppAEXzxTe_O5"
      },
      "outputs": [],
      "source": [
        "a=[5,8,34,51,25,1,3726856]\n",
        "a.sort()\n",
        "print(a)"
      ]
    },
    {
      "cell_type": "code",
      "execution_count": null,
      "metadata": {
        "id": "WMgGB6eIWcLI"
      },
      "outputs": [],
      "source": [
        "L1=[0,1,2,3,4,5,6,7,8,9]\n",
        "L2=L1[::2]\n",
        "L3=L1[1::2]\n",
        "print(L2)\n",
        "print(L3)"
      ]
    },
    {
      "cell_type": "code",
      "execution_count": null,
      "metadata": {
        "id": "WkX0nG_uXPHu",
        "colab": {
          "base_uri": "https://localhost:8080/"
        },
        "outputId": "e148386a-ec7f-4311-8cb0-f5f300d42969"
      },
      "outputs": [
        {
          "output_type": "stream",
          "name": "stdout",
          "text": [
            "[12, 335, 51, 6, 31, 143157, 58, 2473]\n"
          ]
        }
      ],
      "source": [
        "L1=[12,335,51,6,31]\n",
        "L2=[143157,58,2473]\n",
        "print(L1+L2)"
      ]
    },
    {
      "cell_type": "code",
      "source": [
        "n = int(input(\"Enter the number of terms in the Fibonacci sequence: \"))\n",
        "#Now  generating first two numbers\n",
        "a=0;b=1\n",
        "fibonacci = [a,b]\n",
        "for i in range(2, n):\n",
        "    c = a + b\n",
        "    a = b\n",
        "    b = c\n",
        "    fibonacci.append(c)\n",
        "print(\"The Fibonacci sequence up until the\",n, \"th term is:\",fibonacci)"
      ],
      "metadata": {
        "colab": {
          "base_uri": "https://localhost:8080/"
        },
        "id": "iXacfP8pJwCF",
        "outputId": "19ef860c-bdc5-4677-b592-0fb7b63f1c19"
      },
      "execution_count": null,
      "outputs": [
        {
          "output_type": "stream",
          "name": "stdout",
          "text": [
            "Enter the number of terms in the Fibonacci sequence: 8\n",
            "The Fibonacci sequence up until the 8 th term is: [0, 1, 1, 2, 3, 5, 8, 13]\n"
          ]
        }
      ]
    },
    {
      "cell_type": "code",
      "source": [],
      "metadata": {
        "colab": {
          "base_uri": "https://localhost:8080/"
        },
        "id": "bCbZ3Xc5K7jG",
        "outputId": "66b1cfa3-98f4-44f8-cf67-6428955f2663"
      },
      "execution_count": null,
      "outputs": [
        {
          "output_type": "stream",
          "name": "stdout",
          "text": [
            "34\n"
          ]
        }
      ]
    }
  ],
  "metadata": {
    "colab": {
      "provenance": [],
      "authorship_tag": "ABX9TyPQNh3jJ1Lruj9OCW83lmMP",
      "include_colab_link": true
    },
    "kernelspec": {
      "display_name": "Python 3",
      "name": "python3"
    },
    "language_info": {
      "name": "python"
    }
  },
  "nbformat": 4,
  "nbformat_minor": 0
}