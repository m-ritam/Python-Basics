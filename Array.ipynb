{
  "nbformat": 4,
  "nbformat_minor": 0,
  "metadata": {
    "colab": {
      "provenance": [],
      "authorship_tag": "ABX9TyNxsqCL3UjNSjnlt8bbIlYw",
      "include_colab_link": true
    },
    "kernelspec": {
      "name": "python3",
      "display_name": "Python 3"
    },
    "language_info": {
      "name": "python"
    }
  },
  "cells": [
    {
      "cell_type": "markdown",
      "metadata": {
        "id": "view-in-github",
        "colab_type": "text"
      },
      "source": [
        "<a href=\"https://colab.research.google.com/github/m-ritam/Python-Basics/blob/main/Array.ipynb\" target=\"_parent\"><img src=\"https://colab.research.google.com/assets/colab-badge.svg\" alt=\"Open In Colab\"/></a>"
      ]
    },
    {
      "cell_type": "code",
      "execution_count": 28,
      "metadata": {
        "id": "FyexYGwSwnKR",
        "colab": {
          "base_uri": "https://localhost:8080/"
        },
        "outputId": "3a26f037-59fd-4c0c-dd33-6f0b797a9051"
      },
      "outputs": [
        {
          "output_type": "stream",
          "name": "stdout",
          "text": [
            "[10 20 30 40 50 60]\n",
            "10\n",
            "Type of array <class 'numpy.ndarray'>\n",
            "Number of dimensions 1\n",
            "shape of array (6,)\n",
            "size of array 6\n",
            "data type of elements int64\n"
          ]
        }
      ],
      "source": [
        "import numpy as np\n",
        "\n",
        "arr=np.array([10,20,30,40,50,60])\n",
        "#print(\"\\n\\n\")\n",
        "print(arr)\n",
        "print(arr[0])\n",
        "print(\"Type of array\",type(arr))\n",
        "print(\"Number of dimensions\",arr.ndim)\n",
        "print(\"shape of array\",arr.shape)\n",
        "print(\"size of array\",arr.size)\n",
        "print(\"data type of elements\",arr.dtype)"
      ]
    },
    {
      "cell_type": "code",
      "source": [
        "for n in arr:\n",
        "  print(n)"
      ],
      "metadata": {
        "colab": {
          "base_uri": "https://localhost:8080/"
        },
        "id": "lxcwRyt-seQy",
        "outputId": "826ea214-b8b9-4102-e582-9cbb5eda0ed8"
      },
      "execution_count": 6,
      "outputs": [
        {
          "output_type": "stream",
          "name": "stdout",
          "text": [
            "10\n",
            "20\n",
            "30\n",
            "40\n",
            "50\n",
            "60\n"
          ]
        }
      ]
    },
    {
      "cell_type": "code",
      "source": [
        "import numpy as np\n",
        "i1=np.array([[7,4,29],\n",
        "            [876,56,2],\n",
        "            [37,38,4],\n",
        "            [72,654320,946]])\n",
        "print(i1)\n",
        "print(\"Type of array\",type(i1))\n",
        "print(\"Number of dimensions\",i1.ndim)\n",
        "print(\"size of array\",i1.size)\n",
        "print(\"shape(row,column) of array\",i1.shape)\n",
        "print(\"data type of elements\",i1.dtype)"
      ],
      "metadata": {
        "id": "7L314dVEyU4p",
        "colab": {
          "base_uri": "https://localhost:8080/"
        },
        "outputId": "3a2c8ec8-c61c-41b6-b994-bdb58251c336"
      },
      "execution_count": 11,
      "outputs": [
        {
          "output_type": "stream",
          "name": "stdout",
          "text": [
            "[[     7      4     29]\n",
            " [   876     56      2]\n",
            " [    37     38      4]\n",
            " [    72 654320    946]]\n",
            "Type of array <class 'numpy.ndarray'>\n",
            "Number of dimensions 2\n",
            "size of array 12\n",
            "shape(row,column) of array (4, 3)\n",
            "data type of elements int64\n"
          ]
        }
      ]
    },
    {
      "cell_type": "code",
      "source": [
        "print(i1[0]) #first row\n",
        "print(i1[:,0]) #first column"
      ],
      "metadata": {
        "colab": {
          "base_uri": "https://localhost:8080/"
        },
        "id": "1WVVnP1FuPs7",
        "outputId": "b7298059-8e26-4e77-b63b-dad10e028f4a"
      },
      "execution_count": 27,
      "outputs": [
        {
          "output_type": "stream",
          "name": "stdout",
          "text": [
            "[ 7  4 29]\n",
            "[  7 876  37  72]\n"
          ]
        }
      ]
    },
    {
      "cell_type": "code",
      "source": [
        "import numpy as np\n",
        "\n",
        "i23=np.array([10,20,30,40,50,60])\n",
        "print(i23[0])"
      ],
      "metadata": {
        "colab": {
          "base_uri": "https://localhost:8080/"
        },
        "id": "AUptqYaZUwlQ",
        "outputId": "2064091d-99ac-4332-82db-30f51b391325"
      },
      "execution_count": 31,
      "outputs": [
        {
          "output_type": "stream",
          "name": "stdout",
          "text": [
            "10\n"
          ]
        }
      ]
    },
    {
      "cell_type": "code",
      "source": [
        "import numpy as np\n",
        "\n",
        "arr=np.array([10,20,30,40,50,60])\n",
        "print(i23[:])"
      ],
      "metadata": {
        "id": "O1EbmJwmVHA9",
        "colab": {
          "base_uri": "https://localhost:8080/"
        },
        "outputId": "ecc65217-f81a-4edf-aa46-adaa3299a16e"
      },
      "execution_count": 32,
      "outputs": [
        {
          "output_type": "stream",
          "name": "stdout",
          "text": [
            "[10 20 30 40 50 60]\n"
          ]
        }
      ]
    },
    {
      "cell_type": "code",
      "source": [
        "import numpy as np\n",
        "\n",
        "arr=np.array([10,20,30,40,50,60])\n",
        "print(i23[2]+i23[3])"
      ],
      "metadata": {
        "colab": {
          "base_uri": "https://localhost:8080/"
        },
        "id": "Tu2zDu_MVPaB",
        "outputId": "05e20608-cb58-4878-f28f-5d8d876cd68b"
      },
      "execution_count": 33,
      "outputs": [
        {
          "output_type": "stream",
          "name": "stdout",
          "text": [
            "70\n"
          ]
        }
      ]
    },
    {
      "cell_type": "code",
      "source": [
        "import numpy as np\n",
        "\n",
        "arr=np.array([[10,20,30,40,50,60],[62,9,4,34,93,53]])\n",
        "print(arr)\n",
        "print(arr[1][3]) #2st row 4nd element"
      ],
      "metadata": {
        "id": "C8QV-2orVaGd",
        "colab": {
          "base_uri": "https://localhost:8080/"
        },
        "outputId": "cabeae9c-fcd0-4164-c151-e965d29b73bd"
      },
      "execution_count": 34,
      "outputs": [
        {
          "output_type": "stream",
          "name": "stdout",
          "text": [
            "[[10 20 30 40 50 60]\n",
            " [62  9  4 34 93 53]]\n",
            "34\n"
          ]
        }
      ]
    },
    {
      "cell_type": "code",
      "source": [
        "#sum\n",
        "import numpy as np\n",
        "\n",
        "arr=np.array([[10,20,30,40,50,60],[70,90,40,50,90,80]])\n",
        "print(arr)\n",
        "print(np.sum(arr))"
      ],
      "metadata": {
        "colab": {
          "base_uri": "https://localhost:8080/"
        },
        "id": "H33Ht1O6Ye07",
        "outputId": "cad3e8f6-c5a9-4c9e-8349-53b988ffb7a2"
      },
      "execution_count": 35,
      "outputs": [
        {
          "output_type": "stream",
          "name": "stdout",
          "text": [
            "[[10 20 30 40 50 60]\n",
            " [70 90 40 50 90 80]]\n",
            "630\n"
          ]
        }
      ]
    },
    {
      "cell_type": "code",
      "source": [
        "#flatten\n",
        "import numpy as np\n",
        "\n",
        "arr=np.array([[10,20,30,40,50,60],[70,90,40,50,90,80]])\n",
        "print(arr.flatten('F'))"
      ],
      "metadata": {
        "id": "lE5eKeeXZAXi",
        "colab": {
          "base_uri": "https://localhost:8080/"
        },
        "outputId": "07d9b0f0-b3cb-4dd7-9fe5-97b5ba92007b"
      },
      "execution_count": 36,
      "outputs": [
        {
          "output_type": "stream",
          "name": "stdout",
          "text": [
            "[10 70 20 90 30 40 40 50 50 90 60 80]\n"
          ]
        }
      ]
    },
    {
      "cell_type": "code",
      "source": [
        "#mix types\n",
        "import numpy as np\n",
        "\n",
        "i1 = np.array([\n",
        "    [1, \"apple\"],\n",
        "    [2, \"banana\"],\n",
        "    [3, \"cherry\"]\n",
        "])\n",
        "\n",
        "print(i1)\n",
        "print(type(i1[0, 0]), type(i1[0, 1]))  # Check types"
      ],
      "metadata": {
        "colab": {
          "base_uri": "https://localhost:8080/"
        },
        "id": "zWqaZjxOykSF",
        "outputId": "0ef420ea-661c-4c63-a07a-fd5bc317ebe9"
      },
      "execution_count": 37,
      "outputs": [
        {
          "output_type": "stream",
          "name": "stdout",
          "text": [
            "[['1' 'apple']\n",
            " ['2' 'banana']\n",
            " ['3' 'cherry']]\n",
            "<class 'numpy.str_'> <class 'numpy.str_'>\n"
          ]
        }
      ]
    }
  ]
}