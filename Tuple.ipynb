{
  "nbformat": 4,
  "nbformat_minor": 0,
  "metadata": {
    "colab": {
      "provenance": [],
      "authorship_tag": "ABX9TyPed1cyxarpO9pCZ8OVtwSq",
      "include_colab_link": true
    },
    "kernelspec": {
      "name": "python3",
      "display_name": "Python 3"
    },
    "language_info": {
      "name": "python"
    }
  },
  "cells": [
    {
      "cell_type": "markdown",
      "metadata": {
        "id": "view-in-github",
        "colab_type": "text"
      },
      "source": [
        "<a href=\"https://colab.research.google.com/github/m-ritam/Python-Basics/blob/main/Tuple.ipynb\" target=\"_parent\"><img src=\"https://colab.research.google.com/assets/colab-badge.svg\" alt=\"Open In Colab\"/></a>"
      ]
    },
    {
      "cell_type": "code",
      "execution_count": 4,
      "metadata": {
        "id": "iyRvqtryIgmc",
        "colab": {
          "base_uri": "https://localhost:8080/"
        },
        "outputId": "6cec94a9-45d4-4bd7-ef56-7ddd5b2d048c"
      },
      "outputs": [
        {
          "output_type": "stream",
          "name": "stdout",
          "text": [
            "(1, 'to', 3)\n",
            "((1, 'to', 3), 5.32, 45, 401, 23, 52, 6)\n"
          ]
        }
      ],
      "source": [
        "t1=(1,'to',3)\n",
        "t2=(t1,5.32,45,401,23,52,6)\n",
        "print(t1)\n",
        "#t2[1]=9 #cant insert into TUPLE\n",
        "print(t2)"
      ]
    },
    {
      "cell_type": "code",
      "source": [
        "t1=(1,'to',3)\n",
        "t2=('tg',50,'op')\n",
        "T=(t1+t2)\n",
        "print(T) #adding two tupple\n",
        "print(T[5])\n",
        "print(T[2:])"
      ],
      "metadata": {
        "id": "thgMh8dDr9Tw",
        "colab": {
          "base_uri": "https://localhost:8080/"
        },
        "outputId": "97cfa744-4e14-45e4-cc6f-3c20c7f91832"
      },
      "execution_count": 18,
      "outputs": [
        {
          "output_type": "stream",
          "name": "stdout",
          "text": [
            "(1, 'to', 3, 'tg', 50, 'op')\n",
            "op\n",
            "(3, 'tg', 50, 'op')\n"
          ]
        }
      ]
    },
    {
      "cell_type": "code",
      "source": [
        "t1=(107,'to',3,('tg',50,'op'))\n",
        "\n",
        "print(t1[3][0:7])"
      ],
      "metadata": {
        "id": "EqJrGQ8KvXF2",
        "colab": {
          "base_uri": "https://localhost:8080/"
        },
        "outputId": "6b83526a-e401-412f-d771-63e96a5ff866"
      },
      "execution_count": 15,
      "outputs": [
        {
          "output_type": "stream",
          "name": "stdout",
          "text": [
            "('tg', 50, 'op')\n"
          ]
        }
      ]
    },
    {
      "cell_type": "code",
      "source": [
        "t1=(1,'ty',22)\n",
        "t2=(213,'y7',9)\n",
        "print(t1+t2)\n",
        "temp=t1+t2\n",
        "print(temp[2],temp[5])\n",
        "print(temp[2:5])"
      ],
      "metadata": {
        "id": "soPmRqYnIhgD",
        "colab": {
          "base_uri": "https://localhost:8080/"
        },
        "outputId": "9fade751-8765-4e75-b0dc-6ebc8f025eb2"
      },
      "execution_count": 21,
      "outputs": [
        {
          "output_type": "stream",
          "name": "stdout",
          "text": [
            "(1, 'ty', 22, 213, 'y7', 9)\n",
            "22 9\n",
            "(22, 213, 'y7')\n"
          ]
        }
      ]
    },
    {
      "cell_type": "code",
      "source": [
        "t1=(12,98,7,654,3,23,45,6,65)\n",
        "print(sum(t1))"
      ],
      "metadata": {
        "colab": {
          "base_uri": "https://localhost:8080/"
        },
        "id": "TNs2jzQ9Z9Un",
        "outputId": "459707cf-2a97-47a2-cda1-146b25367d0e"
      },
      "execution_count": 23,
      "outputs": [
        {
          "output_type": "stream",
          "name": "stdout",
          "text": [
            "913\n"
          ]
        }
      ]
    },
    {
      "cell_type": "code",
      "source": [
        "# Prompt the user for input and store it in a tuple\n",
        "#for i in range(3):\n",
        "t = tuple(input(\"Enter values separated by spaces: \"))\n",
        "\n",
        "# Print the tuple\n",
        "print(\"Tuple:\", t)\n"
      ],
      "metadata": {
        "id": "5DNjJ_ghRZUh",
        "colab": {
          "base_uri": "https://localhost:8080/"
        },
        "outputId": "98cc9748-9eb2-48b0-f21b-0fd6cc0ff375"
      },
      "execution_count": 24,
      "outputs": [
        {
          "output_type": "stream",
          "name": "stdout",
          "text": [
            "Enter values separated by spaces: 6\n",
            "Tuple: ('6',)\n"
          ]
        }
      ]
    }
  ]
}