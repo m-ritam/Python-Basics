{
  "nbformat": 4,
  "nbformat_minor": 0,
  "metadata": {
    "colab": {
      "provenance": [],
      "authorship_tag": "ABX9TyPUAGRp3CESVKMsXo4B3ycD",
      "include_colab_link": true
    },
    "kernelspec": {
      "name": "python3",
      "display_name": "Python 3"
    },
    "language_info": {
      "name": "python"
    }
  },
  "cells": [
    {
      "cell_type": "markdown",
      "metadata": {
        "id": "view-in-github",
        "colab_type": "text"
      },
      "source": [
        "<a href=\"https://colab.research.google.com/github/m-ritam/Python-Basics/blob/main/For_Loop.ipynb\" target=\"_parent\"><img src=\"https://colab.research.google.com/assets/colab-badge.svg\" alt=\"Open In Colab\"/></a>"
      ]
    },
    {
      "cell_type": "code",
      "execution_count": 42,
      "metadata": {
        "colab": {
          "base_uri": "https://localhost:8080/"
        },
        "collapsed": true,
        "id": "18SjFFZPi9Qt",
        "outputId": "fbd1b7d2-7ed3-4129-e91e-b4e686ef2848"
      },
      "outputs": [
        {
          "output_type": "stream",
          "name": "stdout",
          "text": [
            "i= 0\n",
            "i= 1\n",
            "i= 2\n",
            "i= 3\n",
            "i= 4\n",
            "\n",
            "i2= 5\n",
            "i2= 6\n",
            "i2= 7\n",
            "i2= 8\n",
            "i2= 9\n",
            "\n",
            "i3= 0\n",
            "i3= 2\n",
            "i3= 4\n",
            "i3= 6\n",
            "i3= 8\n",
            "i3= 10\n"
          ]
        }
      ],
      "source": [
        "#for Loop\n",
        "for i in range(5):  # 0 to 4\n",
        "    print(\"i=\",i)\n",
        "print()\n",
        "for i2 in range(5,10):  # 5 to 9\n",
        "    print(\"i2=\",i2)\n",
        "print()\n",
        "for i3 in range(0,12,2):  #0 to 10 with gap 2\n",
        "    print(\"i3=\",i3)"
      ]
    },
    {
      "cell_type": "code",
      "source": [
        "#Loop through a list\n",
        "fruits = [\"apple\", \"banana\", \"cherry\"]\n",
        "for fruit in fruits:\n",
        "    print(fruit)"
      ],
      "metadata": {
        "colab": {
          "base_uri": "https://localhost:8080/"
        },
        "id": "QlDuVhFHlxR2",
        "outputId": "26ff7633-e6c4-48f5-89bc-f21dd450bc3b"
      },
      "execution_count": 43,
      "outputs": [
        {
          "output_type": "stream",
          "name": "stdout",
          "text": [
            "apple\n",
            "banana\n",
            "cherry\n"
          ]
        }
      ]
    },
    {
      "cell_type": "code",
      "source": [
        "#Loop through a Char\n",
        "for char in \"hello123\":\n",
        "    print(char)"
      ],
      "metadata": {
        "colab": {
          "base_uri": "https://localhost:8080/"
        },
        "collapsed": true,
        "id": "tI-E5k9loxFW",
        "outputId": "42dabe06-b996-4558-d279-aea704638527"
      },
      "execution_count": 44,
      "outputs": [
        {
          "output_type": "stream",
          "name": "stdout",
          "text": [
            "h\n",
            "e\n",
            "l\n",
            "l\n",
            "o\n",
            "1\n",
            "2\n",
            "3\n"
          ]
        }
      ]
    },
    {
      "cell_type": "code",
      "source": [
        "#Loop using a Tuple\n",
        "tuple1 = (10, 20, 30)\n",
        "for num in tuple1:\n",
        "    print(num)"
      ],
      "metadata": {
        "colab": {
          "base_uri": "https://localhost:8080/"
        },
        "collapsed": true,
        "id": "ZuQycEjgpGSs",
        "outputId": "987611d6-1300-447a-bd9c-eed514fb914f"
      },
      "execution_count": 45,
      "outputs": [
        {
          "output_type": "stream",
          "name": "stdout",
          "text": [
            "10\n",
            "20\n",
            "30\n"
          ]
        }
      ]
    },
    {
      "cell_type": "code",
      "source": [
        "#Loop using a dictionary\n",
        "\n",
        "my_dictionary = {\"X\": 1, \"Y\": 2, \"Z\": 3}  # Key : value\n",
        "\n",
        "for key_name in my_dictionary: #if only dictionary name mentioned its for Key\n",
        "    print(key_name)\n",
        "print()\n",
        "for value_name in my_dictionary.values():\n",
        "    print(value_name)\n",
        "print()\n",
        "for key_name, value_name in my_dictionary.items():\n",
        "    print(key_name, value_name)"
      ],
      "metadata": {
        "colab": {
          "base_uri": "https://localhost:8080/"
        },
        "collapsed": true,
        "id": "LU5-l_9NpS9y",
        "outputId": "56be4775-b64e-462b-9c98-6d2b9c5423ab"
      },
      "execution_count": 46,
      "outputs": [
        {
          "output_type": "stream",
          "name": "stdout",
          "text": [
            "X\n",
            "Y\n",
            "Z\n",
            "\n",
            "1\n",
            "2\n",
            "3\n",
            "\n",
            "X 1\n",
            "Y 2\n",
            "Z 3\n"
          ]
        }
      ]
    },
    {
      "cell_type": "code",
      "source": [
        "#Loop using a set\n",
        "\n",
        "my_set = {1, 2, 3, 4}\n",
        "for num in my_set:\n",
        "    print(num)"
      ],
      "metadata": {
        "colab": {
          "base_uri": "https://localhost:8080/"
        },
        "id": "M1CUhmHvq9sf",
        "outputId": "aaa84275-389c-4e28-bef4-78a2baf37294"
      },
      "execution_count": 47,
      "outputs": [
        {
          "output_type": "stream",
          "name": "stdout",
          "text": [
            "1\n",
            "2\n",
            "3\n",
            "4\n"
          ]
        }
      ]
    },
    {
      "cell_type": "code",
      "source": [
        "#Looping Over Multiple Iterables\n",
        "names = [\"Rohit\", \"Virat\", \"Dhoni\"]\n",
        "centuries = [30, 50, 10]\n",
        "\n",
        "for player, century100 in zip(names, centuries):\n",
        "    print(player, century100)"
      ],
      "metadata": {
        "colab": {
          "base_uri": "https://localhost:8080/"
        },
        "id": "vLcLq8Fux5Xn",
        "outputId": "939c0d78-8570-46dc-b1a8-62f3c38a09a4"
      },
      "execution_count": 48,
      "outputs": [
        {
          "output_type": "stream",
          "name": "stdout",
          "text": [
            "Rohit 30\n",
            "Virat 50\n",
            "Dhoni 10\n"
          ]
        }
      ]
    },
    {
      "cell_type": "code",
      "source": [],
      "metadata": {
        "id": "xAtKQEHsy_YA"
      },
      "execution_count": null,
      "outputs": []
    }
  ]
}