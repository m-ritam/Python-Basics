{
  "nbformat": 4,
  "nbformat_minor": 0,
  "metadata": {
    "colab": {
      "provenance": [],
      "authorship_tag": "ABX9TyO6xQDSpiwQYHhumhP0B21R",
      "include_colab_link": true
    },
    "kernelspec": {
      "name": "python3",
      "display_name": "Python 3"
    },
    "language_info": {
      "name": "python"
    }
  },
  "cells": [
    {
      "cell_type": "markdown",
      "metadata": {
        "id": "view-in-github",
        "colab_type": "text"
      },
      "source": [
        "<a href=\"https://colab.research.google.com/github/m-ritam/Python-Basics/blob/main/int_str_replace.ipynb\" target=\"_parent\"><img src=\"https://colab.research.google.com/assets/colab-badge.svg\" alt=\"Open In Colab\"/></a>"
      ]
    },
    {
      "cell_type": "code",
      "source": [
        "a=6\n",
        "b=5\n",
        "print(a+b)"
      ],
      "metadata": {
        "id": "18vc7cgV70Wi",
        "colab": {
          "base_uri": "https://localhost:8080/"
        },
        "outputId": "dd829399-58d6-4b7f-fe4e-965576d2380e"
      },
      "execution_count": 1,
      "outputs": [
        {
          "output_type": "stream",
          "name": "stdout",
          "text": [
            "11\n"
          ]
        }
      ]
    },
    {
      "cell_type": "code",
      "execution_count": 5,
      "metadata": {
        "id": "kee2c-EG6N60",
        "colab": {
          "base_uri": "https://localhost:8080/"
        },
        "outputId": "ac99b6a0-3a04-49d9-ffc3-435c1ad596af"
      },
      "outputs": [
        {
          "output_type": "stream",
          "name": "stdout",
          "text": [
            "2\n"
          ]
        }
      ],
      "source": [
        "x=(1+1)\n",
        "print(x)"
      ]
    },
    {
      "cell_type": "code",
      "source": [
        "\"ABC\".replace(\"AB\", \"ab\")"
      ],
      "metadata": {
        "id": "LOv9hZ5QaR5s",
        "outputId": "44e13a9c-d7b0-4eb1-937b-6b8ead25253d",
        "colab": {
          "base_uri": "https://localhost:8080/",
          "height": 35
        }
      },
      "execution_count": 3,
      "outputs": [
        {
          "output_type": "execute_result",
          "data": {
            "text/plain": [
              "'abC'"
            ],
            "application/vnd.google.colaboratory.intrinsic+json": {
              "type": "string"
            }
          },
          "metadata": {},
          "execution_count": 3
        }
      ]
    }
  ]
}