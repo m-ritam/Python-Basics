{
  "nbformat": 4,
  "nbformat_minor": 0,
  "metadata": {
    "colab": {
      "provenance": [],
      "include_colab_link": true
    },
    "kernelspec": {
      "name": "python3",
      "display_name": "Python 3"
    },
    "language_info": {
      "name": "python"
    }
  },
  "cells": [
    {
      "cell_type": "markdown",
      "metadata": {
        "id": "view-in-github",
        "colab_type": "text"
      },
      "source": [
        "<a href=\"https://colab.research.google.com/github/m-ritam/Python-Basics/blob/main/session1_p1_1.ipynb\" target=\"_parent\"><img src=\"https://colab.research.google.com/assets/colab-badge.svg\" alt=\"Open In Colab\"/></a>"
      ]
    },
    {
      "cell_type": "markdown",
      "source": [
        " **Command to display HELLO WORLD**"
      ],
      "metadata": {
        "id": "ImLV-T6MtBz8"
      }
    },
    {
      "cell_type": "code",
      "source": [
        "print(\"THIS IS PYTHON COURSE\")"
      ],
      "metadata": {
        "id": "mKFcEMQLtNIj",
        "colab": {
          "base_uri": "https://localhost:8080/"
        },
        "outputId": "5b3a58ce-a83b-4df6-a4c4-47acc3887fb8"
      },
      "execution_count": 1,
      "outputs": [
        {
          "output_type": "stream",
          "name": "stdout",
          "text": [
            "THIS IS PYTHON COURSE\n"
          ]
        }
      ]
    },
    {
      "cell_type": "markdown",
      "source": [
        "**Assign Data**"
      ],
      "metadata": {
        "id": "eNcz2HnJtsIr"
      }
    },
    {
      "cell_type": "code",
      "source": [
        "x=[0,1,2,900]\n",
        "print(x)"
      ],
      "metadata": {
        "id": "kPNcMOv0trBj",
        "colab": {
          "base_uri": "https://localhost:8080/"
        },
        "outputId": "2797c61f-a2be-4199-8ebe-b406a6550362"
      },
      "execution_count": 2,
      "outputs": [
        {
          "output_type": "stream",
          "name": "stdout",
          "text": [
            "[0, 1, 2, 900]\n"
          ]
        }
      ]
    },
    {
      "cell_type": "code",
      "source": [
        "type(\"Hello, World!\")"
      ],
      "metadata": {
        "id": "VkNsaIwvj29D",
        "colab": {
          "base_uri": "https://localhost:8080/"
        },
        "outputId": "9c24dcf0-e209-424c-9657-26cdbaba5122"
      },
      "execution_count": 4,
      "outputs": [
        {
          "output_type": "execute_result",
          "data": {
            "text/plain": [
              "str"
            ]
          },
          "metadata": {},
          "execution_count": 4
        }
      ]
    },
    {
      "cell_type": "code",
      "source": [
        "type(17)"
      ],
      "metadata": {
        "id": "bM9gZotOj5TZ",
        "colab": {
          "base_uri": "https://localhost:8080/"
        },
        "outputId": "47db162b-924d-4f85-97e5-32c0e018d16f"
      },
      "execution_count": 5,
      "outputs": [
        {
          "output_type": "execute_result",
          "data": {
            "text/plain": [
              "int"
            ]
          },
          "metadata": {},
          "execution_count": 5
        }
      ]
    },
    {
      "cell_type": "code",
      "source": [
        "type(3.2)"
      ],
      "metadata": {
        "id": "p_1zV2rykCRQ",
        "colab": {
          "base_uri": "https://localhost:8080/"
        },
        "outputId": "afbdfd11-2dae-495f-da1c-349d014599fb"
      },
      "execution_count": 6,
      "outputs": [
        {
          "output_type": "execute_result",
          "data": {
            "text/plain": [
              "float"
            ]
          },
          "metadata": {},
          "execution_count": 6
        }
      ]
    },
    {
      "cell_type": "code",
      "source": [
        "type(\"17\")"
      ],
      "metadata": {
        "id": "oyBluXnZkG7A",
        "colab": {
          "base_uri": "https://localhost:8080/"
        },
        "outputId": "c33b9938-3052-40c7-9ff2-78d1249814f3"
      },
      "execution_count": 7,
      "outputs": [
        {
          "output_type": "execute_result",
          "data": {
            "text/plain": [
              "str"
            ]
          },
          "metadata": {},
          "execution_count": 7
        }
      ]
    },
    {
      "cell_type": "code",
      "source": [
        "type(\"3.2\")"
      ],
      "metadata": {
        "id": "I7waE75SkMI9",
        "colab": {
          "base_uri": "https://localhost:8080/"
        },
        "outputId": "a6e95558-94fd-41e5-c078-5a3aaed3bd94"
      },
      "execution_count": 8,
      "outputs": [
        {
          "output_type": "execute_result",
          "data": {
            "text/plain": [
              "str"
            ]
          },
          "metadata": {},
          "execution_count": 8
        }
      ]
    },
    {
      "cell_type": "code",
      "source": [
        "type('This is a string.')"
      ],
      "metadata": {
        "id": "ZA6vdIqYkQZF",
        "outputId": "cc0eac71-8b7a-4a76-faeb-5fcce8c5a201",
        "colab": {
          "base_uri": "https://localhost:8080/"
        }
      },
      "execution_count": null,
      "outputs": [
        {
          "output_type": "execute_result",
          "data": {
            "text/plain": [
              "str"
            ]
          },
          "metadata": {},
          "execution_count": 1
        }
      ]
    },
    {
      "cell_type": "code",
      "source": [
        "type(\"And so is this.\")"
      ],
      "metadata": {
        "id": "R2F1YY6jksin",
        "colab": {
          "base_uri": "https://localhost:8080/"
        },
        "outputId": "a4a3a077-cb2b-40b8-9a46-f02a56c6402e"
      },
      "execution_count": 9,
      "outputs": [
        {
          "output_type": "execute_result",
          "data": {
            "text/plain": [
              "str"
            ]
          },
          "metadata": {},
          "execution_count": 9
        }
      ]
    },
    {
      "cell_type": "code",
      "source": [
        "message = \"What’s your name?\"\n",
        "n = 17\n",
        "pi = 3.14159"
      ],
      "metadata": {
        "id": "l1oki0yHkv-P"
      },
      "execution_count": 10,
      "outputs": []
    },
    {
      "cell_type": "code",
      "source": [
        "print(message)"
      ],
      "metadata": {
        "id": "XqJ-_mO8kxkG",
        "colab": {
          "base_uri": "https://localhost:8080/"
        },
        "outputId": "f1322ac2-6d16-40c1-e9aa-58704d625bbc"
      },
      "execution_count": 11,
      "outputs": [
        {
          "output_type": "stream",
          "name": "stdout",
          "text": [
            "What’s your name?\n"
          ]
        }
      ]
    },
    {
      "cell_type": "code",
      "source": [
        "print (n)"
      ],
      "metadata": {
        "id": "rHH8_rgKlC_R",
        "colab": {
          "base_uri": "https://localhost:8080/"
        },
        "outputId": "d9417c96-b019-4592-d1c5-4ed7d90bf13b"
      },
      "execution_count": 12,
      "outputs": [
        {
          "output_type": "stream",
          "name": "stdout",
          "text": [
            "17\n"
          ]
        }
      ]
    },
    {
      "cell_type": "code",
      "source": [
        "print (pi)"
      ],
      "metadata": {
        "id": "ELUoJobnlGVZ",
        "colab": {
          "base_uri": "https://localhost:8080/"
        },
        "outputId": "b406be33-6d2e-41c9-e5e0-ddcc75d3b26d"
      },
      "execution_count": 13,
      "outputs": [
        {
          "output_type": "stream",
          "name": "stdout",
          "text": [
            "3.14159\n"
          ]
        }
      ]
    },
    {
      "cell_type": "markdown",
      "source": [
        " **Check if this assignment is correct**"
      ],
      "metadata": {
        "id": "_yZS7jCAt3rs"
      }
    },
    {
      "cell_type": "code",
      "source": [
        "17 = n"
      ],
      "metadata": {
        "id": "0VLQ9Yu2k9gZ",
        "colab": {
          "base_uri": "https://localhost:8080/",
          "height": 106
        },
        "outputId": "d91aa462-d568-4417-8eee-a0cb333a2ab1"
      },
      "execution_count": 14,
      "outputs": [
        {
          "output_type": "error",
          "ename": "SyntaxError",
          "evalue": "cannot assign to literal here. Maybe you meant '==' instead of '='? (<ipython-input-14-beb598da8e38>, line 1)",
          "traceback": [
            "\u001b[0;36m  File \u001b[0;32m\"<ipython-input-14-beb598da8e38>\"\u001b[0;36m, line \u001b[0;32m1\u001b[0m\n\u001b[0;31m    17 = n\u001b[0m\n\u001b[0m    ^\u001b[0m\n\u001b[0;31mSyntaxError\u001b[0m\u001b[0;31m:\u001b[0m cannot assign to literal here. Maybe you meant '==' instead of '='?\n"
          ]
        }
      ]
    },
    {
      "cell_type": "code",
      "source": [
        "type(message)\n"
      ],
      "metadata": {
        "id": "BAAKT9AUlMjB",
        "colab": {
          "base_uri": "https://localhost:8080/"
        },
        "outputId": "4cbe6d1e-bcb1-4726-b326-bb432332b642"
      },
      "execution_count": 15,
      "outputs": [
        {
          "output_type": "execute_result",
          "data": {
            "text/plain": [
              "str"
            ]
          },
          "metadata": {},
          "execution_count": 15
        }
      ]
    },
    {
      "cell_type": "code",
      "source": [
        "type(n)"
      ],
      "metadata": {
        "id": "aYb3kKG5lX_5",
        "colab": {
          "base_uri": "https://localhost:8080/"
        },
        "outputId": "c30faf05-225d-496b-b5d6-db3d4501b0e3"
      },
      "execution_count": 16,
      "outputs": [
        {
          "output_type": "execute_result",
          "data": {
            "text/plain": [
              "int"
            ]
          },
          "metadata": {},
          "execution_count": 16
        }
      ]
    },
    {
      "cell_type": "code",
      "source": [
        "type(pi)"
      ],
      "metadata": {
        "id": "GGhzqDjIlP_O",
        "colab": {
          "base_uri": "https://localhost:8080/"
        },
        "outputId": "54c5fd77-28a1-4400-b146-b20f77ae8d4a"
      },
      "execution_count": 17,
      "outputs": [
        {
          "output_type": "execute_result",
          "data": {
            "text/plain": [
              "float"
            ]
          },
          "metadata": {},
          "execution_count": 17
        }
      ]
    },
    {
      "cell_type": "code",
      "source": [
        "T = 101\n",
        "print(T)\n"
      ],
      "metadata": {
        "id": "GPCUcvoplirD",
        "colab": {
          "base_uri": "https://localhost:8080/"
        },
        "outputId": "baf7230c-442f-4e2d-e11a-3a4233731196"
      },
      "execution_count": 18,
      "outputs": [
        {
          "output_type": "stream",
          "name": "stdout",
          "text": [
            "101\n"
          ]
        }
      ]
    },
    {
      "cell_type": "code",
      "source": [
        "more = 1000000\n",
        "print(more)"
      ],
      "metadata": {
        "id": "dHsBXb88lkrL",
        "colab": {
          "base_uri": "https://localhost:8080/"
        },
        "outputId": "dde43ef4-ea0b-4abd-a3a8-5cb10317c2d2"
      },
      "execution_count": 19,
      "outputs": [
        {
          "output_type": "stream",
          "name": "stdout",
          "text": [
            "1000000\n"
          ]
        }
      ]
    },
    {
      "cell_type": "code",
      "source": [
        "class = \"COMP150\""
      ],
      "metadata": {
        "id": "NsV2AtlMloGD",
        "colab": {
          "base_uri": "https://localhost:8080/",
          "height": 131
        },
        "outputId": "4288c4be-eb83-44ab-9179-32f36cdfd5b4"
      },
      "execution_count": null,
      "outputs": [
        {
          "output_type": "error",
          "ename": "SyntaxError",
          "evalue": "ignored",
          "traceback": [
            "\u001b[0;36m  File \u001b[0;32m\"<ipython-input-56-2f174a01b8f0>\"\u001b[0;36m, line \u001b[0;32m1\u001b[0m\n\u001b[0;31m    class = \"COMP150\"\u001b[0m\n\u001b[0m          ^\u001b[0m\n\u001b[0;31mSyntaxError\u001b[0m\u001b[0;31m:\u001b[0m invalid syntax\n"
          ]
        }
      ]
    },
    {
      "cell_type": "code",
      "source": [],
      "metadata": {
        "id": "M7Ayf3JCvR7D"
      },
      "execution_count": null,
      "outputs": []
    },
    {
      "cell_type": "markdown",
      "source": [
        " **What is the expected output of this code ?**"
      ],
      "metadata": {
        "id": "RtzQDv84sVpa"
      }
    },
    {
      "cell_type": "code",
      "source": [
        "print (1)\n",
        "x = 2\n",
        "print (x)"
      ],
      "metadata": {
        "id": "0vW0HmbKluls"
      },
      "execution_count": null,
      "outputs": []
    },
    {
      "cell_type": "code",
      "source": [
        "1 + 1"
      ],
      "metadata": {
        "id": "BWnrRbIDl6BK"
      },
      "execution_count": null,
      "outputs": []
    },
    {
      "cell_type": "code",
      "source": [
        "2+3"
      ],
      "metadata": {
        "id": "DjsUGONmuWss"
      },
      "execution_count": null,
      "outputs": []
    },
    {
      "cell_type": "code",
      "source": [
        "a = b = c = 1\n",
        "print(\"a = \",a, \"\\nb = \",b,\"\\nc = \",c)"
      ],
      "metadata": {
        "id": "Vizdm0ljuXj0",
        "colab": {
          "base_uri": "https://localhost:8080/"
        },
        "outputId": "f81c560f-deeb-4187-ccaf-10ce95beeebf"
      },
      "execution_count": null,
      "outputs": [
        {
          "output_type": "stream",
          "name": "stdout",
          "text": [
            "a =  1 \n",
            "b =  1 \n",
            "c =  1\n"
          ]
        }
      ]
    },
    {
      "cell_type": "markdown",
      "source": [
        "**Mutliple assignment**"
      ],
      "metadata": {
        "id": "1gWX5GOaufgE"
      }
    },
    {
      "cell_type": "code",
      "source": [
        "a = b = c = 1\n",
        "print(\"a = \",a, \"\\nb = \",b,\"\\nc = \",c)"
      ],
      "metadata": {
        "id": "lSDCbo1zunrD"
      },
      "execution_count": null,
      "outputs": []
    },
    {
      "cell_type": "markdown",
      "source": [
        "**What is the expected output?**"
      ],
      "metadata": {
        "id": "IumuS2iZuxS1"
      }
    },
    {
      "cell_type": "code",
      "source": [
        "a,b,c = 1,2,\"Hello World!\"\n",
        "print(\"a = \",a, \"\\nb = \",b,\"\\nc = \",c)"
      ],
      "metadata": {
        "id": "vRh6ECMhu1hU"
      },
      "execution_count": null,
      "outputs": []
    }
  ]
}