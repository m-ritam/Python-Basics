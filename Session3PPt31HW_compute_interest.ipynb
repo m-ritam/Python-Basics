{
  "nbformat": 4,
  "nbformat_minor": 0,
  "metadata": {
    "colab": {
      "provenance": [],
      "authorship_tag": "ABX9TyOj84sQ9fVKWmLVfo9ytQrg",
      "include_colab_link": true
    },
    "kernelspec": {
      "name": "python3",
      "display_name": "Python 3"
    },
    "language_info": {
      "name": "python"
    }
  },
  "cells": [
    {
      "cell_type": "markdown",
      "metadata": {
        "id": "view-in-github",
        "colab_type": "text"
      },
      "source": [
        "<a href=\"https://colab.research.google.com/github/m-ritam/Python-Basics/blob/main/Session3PPt31HW_compute_interest.ipynb\" target=\"_parent\"><img src=\"https://colab.research.google.com/assets/colab-badge.svg\" alt=\"Open In Colab\"/></a>"
      ]
    },
    {
      "cell_type": "code",
      "source": [
        "# Write a python program to compute simple interest\n",
        "principal = float(input('Enter principal amount: '))\n",
        "rate = float(input('Enter rate of interest: '))\n",
        "time = float(input('Enter time period: '))\n",
        "interest = principal*rate/100*time\n",
        "print('Interest=', interest)\n",
        "total=principal+interest\n",
        "print('Total=',total)\n"
      ],
      "metadata": {
        "id": "eoSHbsBA6Gp6",
        "colab": {
          "base_uri": "https://localhost:8080/"
        },
        "outputId": "5375a67e-2d86-4ddc-c65f-00fced883bf0"
      },
      "execution_count": 1,
      "outputs": [
        {
          "output_type": "stream",
          "name": "stdout",
          "text": [
            "Enter principal amount: 1000\n",
            "Enter rate of interest: 13.5\n",
            "Enter time period: 2\n",
            "Interest= 270.0\n",
            "Total= 1270.0\n"
          ]
        }
      ]
    },
    {
      "cell_type": "code",
      "source": [
        "# compound interest\n",
        "principal = float(input('Enter Principal amount: '))\n",
        "r = float(input('Enter Rate of interest: '))\n",
        "rate=r/100\n",
        "print(rate+1)\n",
        "time = float(input('Enter Time period: '))\n",
        "e=(rate+1)**time\n",
        "print(e)\n",
        "total=principal*e\n",
        "print(total)"
      ],
      "metadata": {
        "id": "kFy9IdMR8YNS"
      },
      "execution_count": null,
      "outputs": []
    },
    {
      "cell_type": "code",
      "source": [
        "r=1.1**2\n",
        "print(r)"
      ],
      "metadata": {
        "colab": {
          "base_uri": "https://localhost:8080/"
        },
        "id": "Nsst4GFnEDzO",
        "outputId": "fc798374-4f9c-4f93-f834-8da5d993de4a"
      },
      "execution_count": null,
      "outputs": [
        {
          "output_type": "stream",
          "name": "stdout",
          "text": [
            "1.2100000000000002\n"
          ]
        }
      ]
    }
  ]
}