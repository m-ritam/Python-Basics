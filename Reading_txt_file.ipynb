{
  "nbformat": 4,
  "nbformat_minor": 0,
  "metadata": {
    "colab": {
      "provenance": [],
      "authorship_tag": "ABX9TyOX75vV+lOs9eQ5quT6oIeD",
      "include_colab_link": true
    },
    "kernelspec": {
      "name": "python3",
      "display_name": "Python 3"
    },
    "language_info": {
      "name": "python"
    }
  },
  "cells": [
    {
      "cell_type": "markdown",
      "metadata": {
        "id": "view-in-github",
        "colab_type": "text"
      },
      "source": [
        "<a href=\"https://colab.research.google.com/github/m-ritam/Python-Basics/blob/main/Reading_txt_file.ipynb\" target=\"_parent\"><img src=\"https://colab.research.google.com/assets/colab-badge.svg\" alt=\"Open In Colab\"/></a>"
      ]
    },
    {
      "cell_type": "code",
      "source": [
        "#Upload files in Colab\n",
        "from google.colab import files\n",
        "uploaded = files.upload()"
      ],
      "metadata": {
        "colab": {
          "base_uri": "https://localhost:8080/",
          "height": 73
        },
        "id": "0LNMaKDrn2ta",
        "outputId": "0370ab62-fe93-41b6-8192-93160c6b1a1f"
      },
      "execution_count": 16,
      "outputs": [
        {
          "output_type": "display_data",
          "data": {
            "text/plain": [
              "<IPython.core.display.HTML object>"
            ],
            "text/html": [
              "\n",
              "     <input type=\"file\" id=\"files-58e0ab14-80ef-4c20-918c-9b7c68e69529\" name=\"files[]\" multiple disabled\n",
              "        style=\"border:none\" />\n",
              "     <output id=\"result-58e0ab14-80ef-4c20-918c-9b7c68e69529\">\n",
              "      Upload widget is only available when the cell has been executed in the\n",
              "      current browser session. Please rerun this cell to enable.\n",
              "      </output>\n",
              "      <script>// Copyright 2017 Google LLC\n",
              "//\n",
              "// Licensed under the Apache License, Version 2.0 (the \"License\");\n",
              "// you may not use this file except in compliance with the License.\n",
              "// You may obtain a copy of the License at\n",
              "//\n",
              "//      http://www.apache.org/licenses/LICENSE-2.0\n",
              "//\n",
              "// Unless required by applicable law or agreed to in writing, software\n",
              "// distributed under the License is distributed on an \"AS IS\" BASIS,\n",
              "// WITHOUT WARRANTIES OR CONDITIONS OF ANY KIND, either express or implied.\n",
              "// See the License for the specific language governing permissions and\n",
              "// limitations under the License.\n",
              "\n",
              "/**\n",
              " * @fileoverview Helpers for google.colab Python module.\n",
              " */\n",
              "(function(scope) {\n",
              "function span(text, styleAttributes = {}) {\n",
              "  const element = document.createElement('span');\n",
              "  element.textContent = text;\n",
              "  for (const key of Object.keys(styleAttributes)) {\n",
              "    element.style[key] = styleAttributes[key];\n",
              "  }\n",
              "  return element;\n",
              "}\n",
              "\n",
              "// Max number of bytes which will be uploaded at a time.\n",
              "const MAX_PAYLOAD_SIZE = 100 * 1024;\n",
              "\n",
              "function _uploadFiles(inputId, outputId) {\n",
              "  const steps = uploadFilesStep(inputId, outputId);\n",
              "  const outputElement = document.getElementById(outputId);\n",
              "  // Cache steps on the outputElement to make it available for the next call\n",
              "  // to uploadFilesContinue from Python.\n",
              "  outputElement.steps = steps;\n",
              "\n",
              "  return _uploadFilesContinue(outputId);\n",
              "}\n",
              "\n",
              "// This is roughly an async generator (not supported in the browser yet),\n",
              "// where there are multiple asynchronous steps and the Python side is going\n",
              "// to poll for completion of each step.\n",
              "// This uses a Promise to block the python side on completion of each step,\n",
              "// then passes the result of the previous step as the input to the next step.\n",
              "function _uploadFilesContinue(outputId) {\n",
              "  const outputElement = document.getElementById(outputId);\n",
              "  const steps = outputElement.steps;\n",
              "\n",
              "  const next = steps.next(outputElement.lastPromiseValue);\n",
              "  return Promise.resolve(next.value.promise).then((value) => {\n",
              "    // Cache the last promise value to make it available to the next\n",
              "    // step of the generator.\n",
              "    outputElement.lastPromiseValue = value;\n",
              "    return next.value.response;\n",
              "  });\n",
              "}\n",
              "\n",
              "/**\n",
              " * Generator function which is called between each async step of the upload\n",
              " * process.\n",
              " * @param {string} inputId Element ID of the input file picker element.\n",
              " * @param {string} outputId Element ID of the output display.\n",
              " * @return {!Iterable<!Object>} Iterable of next steps.\n",
              " */\n",
              "function* uploadFilesStep(inputId, outputId) {\n",
              "  const inputElement = document.getElementById(inputId);\n",
              "  inputElement.disabled = false;\n",
              "\n",
              "  const outputElement = document.getElementById(outputId);\n",
              "  outputElement.innerHTML = '';\n",
              "\n",
              "  const pickedPromise = new Promise((resolve) => {\n",
              "    inputElement.addEventListener('change', (e) => {\n",
              "      resolve(e.target.files);\n",
              "    });\n",
              "  });\n",
              "\n",
              "  const cancel = document.createElement('button');\n",
              "  inputElement.parentElement.appendChild(cancel);\n",
              "  cancel.textContent = 'Cancel upload';\n",
              "  const cancelPromise = new Promise((resolve) => {\n",
              "    cancel.onclick = () => {\n",
              "      resolve(null);\n",
              "    };\n",
              "  });\n",
              "\n",
              "  // Wait for the user to pick the files.\n",
              "  const files = yield {\n",
              "    promise: Promise.race([pickedPromise, cancelPromise]),\n",
              "    response: {\n",
              "      action: 'starting',\n",
              "    }\n",
              "  };\n",
              "\n",
              "  cancel.remove();\n",
              "\n",
              "  // Disable the input element since further picks are not allowed.\n",
              "  inputElement.disabled = true;\n",
              "\n",
              "  if (!files) {\n",
              "    return {\n",
              "      response: {\n",
              "        action: 'complete',\n",
              "      }\n",
              "    };\n",
              "  }\n",
              "\n",
              "  for (const file of files) {\n",
              "    const li = document.createElement('li');\n",
              "    li.append(span(file.name, {fontWeight: 'bold'}));\n",
              "    li.append(span(\n",
              "        `(${file.type || 'n/a'}) - ${file.size} bytes, ` +\n",
              "        `last modified: ${\n",
              "            file.lastModifiedDate ? file.lastModifiedDate.toLocaleDateString() :\n",
              "                                    'n/a'} - `));\n",
              "    const percent = span('0% done');\n",
              "    li.appendChild(percent);\n",
              "\n",
              "    outputElement.appendChild(li);\n",
              "\n",
              "    const fileDataPromise = new Promise((resolve) => {\n",
              "      const reader = new FileReader();\n",
              "      reader.onload = (e) => {\n",
              "        resolve(e.target.result);\n",
              "      };\n",
              "      reader.readAsArrayBuffer(file);\n",
              "    });\n",
              "    // Wait for the data to be ready.\n",
              "    let fileData = yield {\n",
              "      promise: fileDataPromise,\n",
              "      response: {\n",
              "        action: 'continue',\n",
              "      }\n",
              "    };\n",
              "\n",
              "    // Use a chunked sending to avoid message size limits. See b/62115660.\n",
              "    let position = 0;\n",
              "    do {\n",
              "      const length = Math.min(fileData.byteLength - position, MAX_PAYLOAD_SIZE);\n",
              "      const chunk = new Uint8Array(fileData, position, length);\n",
              "      position += length;\n",
              "\n",
              "      const base64 = btoa(String.fromCharCode.apply(null, chunk));\n",
              "      yield {\n",
              "        response: {\n",
              "          action: 'append',\n",
              "          file: file.name,\n",
              "          data: base64,\n",
              "        },\n",
              "      };\n",
              "\n",
              "      let percentDone = fileData.byteLength === 0 ?\n",
              "          100 :\n",
              "          Math.round((position / fileData.byteLength) * 100);\n",
              "      percent.textContent = `${percentDone}% done`;\n",
              "\n",
              "    } while (position < fileData.byteLength);\n",
              "  }\n",
              "\n",
              "  // All done.\n",
              "  yield {\n",
              "    response: {\n",
              "      action: 'complete',\n",
              "    }\n",
              "  };\n",
              "}\n",
              "\n",
              "scope.google = scope.google || {};\n",
              "scope.google.colab = scope.google.colab || {};\n",
              "scope.google.colab._files = {\n",
              "  _uploadFiles,\n",
              "  _uploadFilesContinue,\n",
              "};\n",
              "})(self);\n",
              "</script> "
            ]
          },
          "metadata": {}
        },
        {
          "output_type": "stream",
          "name": "stdout",
          "text": [
            "Saving food_truck_data.txt to food_truck_data (1).txt\n"
          ]
        }
      ]
    },
    {
      "cell_type": "code",
      "source": [
        "#check if the file exists or not\n",
        "import os\n",
        "\n",
        "print(os.path.exists(\"food_truck_data.txt\"))"
      ],
      "metadata": {
        "colab": {
          "base_uri": "https://localhost:8080/"
        },
        "id": "UgN6f6TVkRvE",
        "outputId": "36181d28-ec58-474d-959c-a6ac57f3e0ee"
      },
      "execution_count": 17,
      "outputs": [
        {
          "output_type": "stream",
          "name": "stdout",
          "text": [
            "True\n"
          ]
        }
      ]
    },
    {
      "cell_type": "code",
      "source": [
        "import os\n",
        "print(os.listdir()) #returns all the files in current working directory"
      ],
      "metadata": {
        "colab": {
          "base_uri": "https://localhost:8080/"
        },
        "id": "MQQPcSsd3noK",
        "outputId": "dd31d1af-a617-4510-c16b-8770516eeed9"
      },
      "execution_count": 70,
      "outputs": [
        {
          "output_type": "stream",
          "name": "stdout",
          "text": [
            "['.config', 'food_truck_data (1).txt', 'food_truck_data.txt', 'sample_data']\n"
          ]
        }
      ]
    },
    {
      "cell_type": "code",
      "execution_count": 59,
      "metadata": {
        "id": "QMK9sdQngFnu"
      },
      "outputs": [],
      "source": [
        "#reading the file\n",
        "file1=open(\"food_truck_data.txt\",\"r\")"
      ]
    },
    {
      "cell_type": "code",
      "source": [
        "file1.seek(0) # keeping the pointer at start of the file.\n",
        "file1.read()\n",
        "\n"
      ],
      "metadata": {
        "colab": {
          "base_uri": "https://localhost:8080/",
          "height": 191
        },
        "id": "9wpg2fXqoo41",
        "outputId": "0d868365-a33d-40f8-f0bd-16eecc89a003"
      },
      "execution_count": 46,
      "outputs": [
        {
          "output_type": "execute_result",
          "data": {
            "text/plain": [
              "'Population,Profit\\n6.1101,17.592\\n5.5277,9.1302\\n8.5186,13.662\\n7.0032,11.854\\n5.8598,6.8233\\n8.3829,11.886\\n7.4764,4.3483\\n8.5781,12\\n6.4862,6.5987\\n5.0546,3.8166\\n5.7107,3.2522\\n14.164,15.505\\n5.734,3.1551\\n8.4084,7.2258\\n5.6407,0.71618\\n5.3794,3.5129\\n6.3654,5.3048\\n5.1301,0.56077\\n6.4296,3.6518\\n7.0708,5.3893\\n6.1891,3.1386\\n20.27,21.767\\n5.4901,4.263\\n6.3261,5.1875\\n5.5649,3.0825\\n18.945,22.638\\n12.828,13.501\\n10.957,7.0467\\n13.176,14.692\\n22.203,24.147\\n5.2524,-1.22\\n6.5894,5.9966\\n9.2482,12.134\\n5.8918,1.8495\\n8.2111,6.5426\\n7.9334,4.5623\\n8.0959,4.1164\\n5.6063,3.3928\\n12.836,10.117\\n6.3534,5.4974\\n5.4069,0.55657\\n6.8825,3.9115\\n11.708,5.3854\\n5.7737,2.4406\\n7.8247,6.7318\\n7.0931,1.0463\\n5.0702,5.1337\\n5.8014,1.844\\n11.7,8.0043\\n5.5416,1.0179\\n7.5402,6.7504\\n5.3077,1.8396\\n7.4239,4.2885\\n7.6031,4.9981\\n6.3328,1.4233\\n6.3589,-1.4211\\n6.2742,2.4756\\n5.6397,4.6042\\n9.3102,3.9624\\n9.4536,5.4141\\n8.8254,5.1694\\n5.1793,-0.74279\\n21.279,17.929\\n14.908,12.054\\n18.959,17.054\\n7.2182,4.8852\\n8.2951,5.7442\\n10.236,7.7754\\n5.4994,1.0173\\n20.341,20.992\\n10.136,6.6799\\n7.3345,4.0259\\n6.0062,1.2784\\n7.2259,3.3411\\n5.0269,-2.6807\\n6.5479,0.29678\\n7.5386,3.8845\\n5.0365,5.7014\\n10.274,6.7526\\n5.1077,2.0576\\n5.7292,0.47953\\n5.1884,0.20421\\n6.3557,0.67861\\n9.7687,7.5435\\n6.5159,5.3436\\n8.5172,4.2415\\n9.1802,6.7981\\n6.002,0.92695\\n5.5204,0.152\\n5.0594,2.8214\\n5.7077,1.8451\\n7.6366,4.2959\\n5.8707,7.2029\\n5.3054,1.9869\\n8.2934,0.14454\\n13.394,9.0551\\n5.4369,0.61705\\n'"
            ],
            "application/vnd.google.colaboratory.intrinsic+json": {
              "type": "string"
            }
          },
          "metadata": {},
          "execution_count": 46
        }
      ]
    },
    {
      "cell_type": "code",
      "source": [
        "file1.seek(0)\n",
        "\n",
        "for line in file1:             # reding all lines separately. (.strip() removes the newline character \\n at the end of each line)\n",
        "  print(line.strip())"
      ],
      "metadata": {
        "colab": {
          "base_uri": "https://localhost:8080/"
        },
        "collapsed": true,
        "id": "qaHMWKLRpzGK",
        "outputId": "d184d0df-5b01-45d7-bda7-86bbfffcd88f"
      },
      "execution_count": 51,
      "outputs": [
        {
          "output_type": "stream",
          "name": "stdout",
          "text": [
            "Population,Profit\n",
            "6.1101,17.592\n",
            "5.5277,9.1302\n",
            "8.5186,13.662\n",
            "7.0032,11.854\n",
            "5.8598,6.8233\n",
            "8.3829,11.886\n",
            "7.4764,4.3483\n",
            "8.5781,12\n",
            "6.4862,6.5987\n",
            "5.0546,3.8166\n",
            "5.7107,3.2522\n",
            "14.164,15.505\n",
            "5.734,3.1551\n",
            "8.4084,7.2258\n",
            "5.6407,0.71618\n",
            "5.3794,3.5129\n",
            "6.3654,5.3048\n",
            "5.1301,0.56077\n",
            "6.4296,3.6518\n",
            "7.0708,5.3893\n",
            "6.1891,3.1386\n",
            "20.27,21.767\n",
            "5.4901,4.263\n",
            "6.3261,5.1875\n",
            "5.5649,3.0825\n",
            "18.945,22.638\n",
            "12.828,13.501\n",
            "10.957,7.0467\n",
            "13.176,14.692\n",
            "22.203,24.147\n",
            "5.2524,-1.22\n",
            "6.5894,5.9966\n",
            "9.2482,12.134\n",
            "5.8918,1.8495\n",
            "8.2111,6.5426\n",
            "7.9334,4.5623\n",
            "8.0959,4.1164\n",
            "5.6063,3.3928\n",
            "12.836,10.117\n",
            "6.3534,5.4974\n",
            "5.4069,0.55657\n",
            "6.8825,3.9115\n",
            "11.708,5.3854\n",
            "5.7737,2.4406\n",
            "7.8247,6.7318\n",
            "7.0931,1.0463\n",
            "5.0702,5.1337\n",
            "5.8014,1.844\n",
            "11.7,8.0043\n",
            "5.5416,1.0179\n",
            "7.5402,6.7504\n",
            "5.3077,1.8396\n",
            "7.4239,4.2885\n",
            "7.6031,4.9981\n",
            "6.3328,1.4233\n",
            "6.3589,-1.4211\n",
            "6.2742,2.4756\n",
            "5.6397,4.6042\n",
            "9.3102,3.9624\n",
            "9.4536,5.4141\n",
            "8.8254,5.1694\n",
            "5.1793,-0.74279\n",
            "21.279,17.929\n",
            "14.908,12.054\n",
            "18.959,17.054\n",
            "7.2182,4.8852\n",
            "8.2951,5.7442\n",
            "10.236,7.7754\n",
            "5.4994,1.0173\n",
            "20.341,20.992\n",
            "10.136,6.6799\n",
            "7.3345,4.0259\n",
            "6.0062,1.2784\n",
            "7.2259,3.3411\n",
            "5.0269,-2.6807\n",
            "6.5479,0.29678\n",
            "7.5386,3.8845\n",
            "5.0365,5.7014\n",
            "10.274,6.7526\n",
            "5.1077,2.0576\n",
            "5.7292,0.47953\n",
            "5.1884,0.20421\n",
            "6.3557,0.67861\n",
            "9.7687,7.5435\n",
            "6.5159,5.3436\n",
            "8.5172,4.2415\n",
            "9.1802,6.7981\n",
            "6.002,0.92695\n",
            "5.5204,0.152\n",
            "5.0594,2.8214\n",
            "5.7077,1.8451\n",
            "7.6366,4.2959\n",
            "5.8707,7.2029\n",
            "5.3054,1.9869\n",
            "8.2934,0.14454\n",
            "13.394,9.0551\n",
            "5.4369,0.61705\n"
          ]
        }
      ]
    },
    {
      "cell_type": "code",
      "source": [
        "file1.seek(0)\n",
        "\n",
        "line1 = file1.readline() # read only the next line (next to pointer, in this case its first line)\n",
        "print(line1)"
      ],
      "metadata": {
        "colab": {
          "base_uri": "https://localhost:8080/"
        },
        "id": "7YZS570uxKfj",
        "outputId": "c9bc52af-3103-4010-ec62-518337a0b462"
      },
      "execution_count": 52,
      "outputs": [
        {
          "output_type": "stream",
          "name": "stdout",
          "text": [
            "Population,Profit\n",
            "\n"
          ]
        }
      ]
    },
    {
      "cell_type": "markdown",
      "source": [
        "**Want to read a specific line**"
      ],
      "metadata": {
        "id": "ywT-JsUg5BMm"
      }
    },
    {
      "cell_type": "code",
      "source": [
        "file1.seek(0)\n",
        "#Want to read a specific line (10th line)\n",
        "for i, line in enumerate(file1, start=1):\n",
        "  if i == 10:\n",
        "    print(\"10th line:\", line.strip())\n",
        "    break"
      ],
      "metadata": {
        "colab": {
          "base_uri": "https://localhost:8080/"
        },
        "id": "VFw8XEdt4mel",
        "outputId": "e64401a0-c8ce-4af8-843d-af4ec1b6eb1e"
      },
      "execution_count": 74,
      "outputs": [
        {
          "output_type": "stream",
          "name": "stdout",
          "text": [
            "10th line: 6.4862,6.5987\n"
          ]
        }
      ]
    },
    {
      "cell_type": "code",
      "source": [
        "file1.seek(0)\n",
        "\n",
        "lines1 = file1.readlines() #read all lines and returb them as list\n",
        "print(lines1)"
      ],
      "metadata": {
        "colab": {
          "base_uri": "https://localhost:8080/"
        },
        "id": "btspshy-zd_c",
        "outputId": "84960d22-1289-4aed-ad11-4d5741ea278e"
      },
      "execution_count": 60,
      "outputs": [
        {
          "output_type": "stream",
          "name": "stdout",
          "text": [
            "['Population,Profit\\n', '6.1101,17.592\\n', '5.5277,9.1302\\n', '8.5186,13.662\\n', '7.0032,11.854\\n', '5.8598,6.8233\\n', '8.3829,11.886\\n', '7.4764,4.3483\\n', '8.5781,12\\n', '6.4862,6.5987\\n', '5.0546,3.8166\\n', '5.7107,3.2522\\n', '14.164,15.505\\n', '5.734,3.1551\\n', '8.4084,7.2258\\n', '5.6407,0.71618\\n', '5.3794,3.5129\\n', '6.3654,5.3048\\n', '5.1301,0.56077\\n', '6.4296,3.6518\\n', '7.0708,5.3893\\n', '6.1891,3.1386\\n', '20.27,21.767\\n', '5.4901,4.263\\n', '6.3261,5.1875\\n', '5.5649,3.0825\\n', '18.945,22.638\\n', '12.828,13.501\\n', '10.957,7.0467\\n', '13.176,14.692\\n', '22.203,24.147\\n', '5.2524,-1.22\\n', '6.5894,5.9966\\n', '9.2482,12.134\\n', '5.8918,1.8495\\n', '8.2111,6.5426\\n', '7.9334,4.5623\\n', '8.0959,4.1164\\n', '5.6063,3.3928\\n', '12.836,10.117\\n', '6.3534,5.4974\\n', '5.4069,0.55657\\n', '6.8825,3.9115\\n', '11.708,5.3854\\n', '5.7737,2.4406\\n', '7.8247,6.7318\\n', '7.0931,1.0463\\n', '5.0702,5.1337\\n', '5.8014,1.844\\n', '11.7,8.0043\\n', '5.5416,1.0179\\n', '7.5402,6.7504\\n', '5.3077,1.8396\\n', '7.4239,4.2885\\n', '7.6031,4.9981\\n', '6.3328,1.4233\\n', '6.3589,-1.4211\\n', '6.2742,2.4756\\n', '5.6397,4.6042\\n', '9.3102,3.9624\\n', '9.4536,5.4141\\n', '8.8254,5.1694\\n', '5.1793,-0.74279\\n', '21.279,17.929\\n', '14.908,12.054\\n', '18.959,17.054\\n', '7.2182,4.8852\\n', '8.2951,5.7442\\n', '10.236,7.7754\\n', '5.4994,1.0173\\n', '20.341,20.992\\n', '10.136,6.6799\\n', '7.3345,4.0259\\n', '6.0062,1.2784\\n', '7.2259,3.3411\\n', '5.0269,-2.6807\\n', '6.5479,0.29678\\n', '7.5386,3.8845\\n', '5.0365,5.7014\\n', '10.274,6.7526\\n', '5.1077,2.0576\\n', '5.7292,0.47953\\n', '5.1884,0.20421\\n', '6.3557,0.67861\\n', '9.7687,7.5435\\n', '6.5159,5.3436\\n', '8.5172,4.2415\\n', '9.1802,6.7981\\n', '6.002,0.92695\\n', '5.5204,0.152\\n', '5.0594,2.8214\\n', '5.7077,1.8451\\n', '7.6366,4.2959\\n', '5.8707,7.2029\\n', '5.3054,1.9869\\n', '8.2934,0.14454\\n', '13.394,9.0551\\n', '5.4369,0.61705\\n']\n"
          ]
        }
      ]
    },
    {
      "cell_type": "code",
      "source": [
        "file1.close()\n"
      ],
      "metadata": {
        "id": "yv1SeR8B0bTd"
      },
      "execution_count": 57,
      "outputs": []
    },
    {
      "cell_type": "code",
      "source": [
        "with open(\"food_truck_data.txt\", \"r\") as file2: #auto-closes the file when done\n",
        "    print(file2.read())"
      ],
      "metadata": {
        "colab": {
          "base_uri": "https://localhost:8080/"
        },
        "collapsed": true,
        "id": "b3A8ZsuA1yBQ",
        "outputId": "1eabae4d-4c20-434c-a0b0-3949800daf49"
      },
      "execution_count": 68,
      "outputs": [
        {
          "output_type": "stream",
          "name": "stdout",
          "text": [
            "Population,Profit\n",
            "6.1101,17.592\n",
            "5.5277,9.1302\n",
            "8.5186,13.662\n",
            "7.0032,11.854\n",
            "5.8598,6.8233\n",
            "8.3829,11.886\n",
            "7.4764,4.3483\n",
            "8.5781,12\n",
            "6.4862,6.5987\n",
            "5.0546,3.8166\n",
            "5.7107,3.2522\n",
            "14.164,15.505\n",
            "5.734,3.1551\n",
            "8.4084,7.2258\n",
            "5.6407,0.71618\n",
            "5.3794,3.5129\n",
            "6.3654,5.3048\n",
            "5.1301,0.56077\n",
            "6.4296,3.6518\n",
            "7.0708,5.3893\n",
            "6.1891,3.1386\n",
            "20.27,21.767\n",
            "5.4901,4.263\n",
            "6.3261,5.1875\n",
            "5.5649,3.0825\n",
            "18.945,22.638\n",
            "12.828,13.501\n",
            "10.957,7.0467\n",
            "13.176,14.692\n",
            "22.203,24.147\n",
            "5.2524,-1.22\n",
            "6.5894,5.9966\n",
            "9.2482,12.134\n",
            "5.8918,1.8495\n",
            "8.2111,6.5426\n",
            "7.9334,4.5623\n",
            "8.0959,4.1164\n",
            "5.6063,3.3928\n",
            "12.836,10.117\n",
            "6.3534,5.4974\n",
            "5.4069,0.55657\n",
            "6.8825,3.9115\n",
            "11.708,5.3854\n",
            "5.7737,2.4406\n",
            "7.8247,6.7318\n",
            "7.0931,1.0463\n",
            "5.0702,5.1337\n",
            "5.8014,1.844\n",
            "11.7,8.0043\n",
            "5.5416,1.0179\n",
            "7.5402,6.7504\n",
            "5.3077,1.8396\n",
            "7.4239,4.2885\n",
            "7.6031,4.9981\n",
            "6.3328,1.4233\n",
            "6.3589,-1.4211\n",
            "6.2742,2.4756\n",
            "5.6397,4.6042\n",
            "9.3102,3.9624\n",
            "9.4536,5.4141\n",
            "8.8254,5.1694\n",
            "5.1793,-0.74279\n",
            "21.279,17.929\n",
            "14.908,12.054\n",
            "18.959,17.054\n",
            "7.2182,4.8852\n",
            "8.2951,5.7442\n",
            "10.236,7.7754\n",
            "5.4994,1.0173\n",
            "20.341,20.992\n",
            "10.136,6.6799\n",
            "7.3345,4.0259\n",
            "6.0062,1.2784\n",
            "7.2259,3.3411\n",
            "5.0269,-2.6807\n",
            "6.5479,0.29678\n",
            "7.5386,3.8845\n",
            "5.0365,5.7014\n",
            "10.274,6.7526\n",
            "5.1077,2.0576\n",
            "5.7292,0.47953\n",
            "5.1884,0.20421\n",
            "6.3557,0.67861\n",
            "9.7687,7.5435\n",
            "6.5159,5.3436\n",
            "8.5172,4.2415\n",
            "9.1802,6.7981\n",
            "6.002,0.92695\n",
            "5.5204,0.152\n",
            "5.0594,2.8214\n",
            "5.7077,1.8451\n",
            "7.6366,4.2959\n",
            "5.8707,7.2029\n",
            "5.3054,1.9869\n",
            "8.2934,0.14454\n",
            "13.394,9.0551\n",
            "5.4369,0.61705\n",
            "\n"
          ]
        }
      ]
    },
    {
      "cell_type": "code",
      "source": [
        "file1.name #returns the name of the file\n",
        "\n",
        "file1.mode #returns the mode in which it was opened\n"
      ],
      "metadata": {
        "colab": {
          "base_uri": "https://localhost:8080/",
          "height": 35
        },
        "id": "hKvpk61m2zb1",
        "outputId": "824d543b-306a-45cd-a07a-5ec0ccbad569"
      },
      "execution_count": 69,
      "outputs": [
        {
          "output_type": "execute_result",
          "data": {
            "text/plain": [
              "'food_truck_data.txt'"
            ],
            "application/vnd.google.colaboratory.intrinsic+json": {
              "type": "string"
            }
          },
          "metadata": {},
          "execution_count": 69
        }
      ]
    }
  ]
}