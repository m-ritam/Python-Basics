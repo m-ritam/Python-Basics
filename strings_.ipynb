{
  "cells": [
    {
      "cell_type": "markdown",
      "metadata": {
        "id": "view-in-github",
        "colab_type": "text"
      },
      "source": [
        "<a href=\"https://colab.research.google.com/github/m-ritam/Python-Basics/blob/main/strings_.ipynb\" target=\"_parent\"><img src=\"https://colab.research.google.com/assets/colab-badge.svg\" alt=\"Open In Colab\"/></a>"
      ]
    },
    {
      "cell_type": "code",
      "execution_count": 4,
      "metadata": {
        "colab": {
          "base_uri": "https://localhost:8080/"
        },
        "id": "eJ4kvT3LHqSp",
        "outputId": "ebe9bc0f-ce74-49d9-9659-cc49b048b637"
      },
      "outputs": [
        {
          "output_type": "stream",
          "name": "stdout",
          "text": [
            "4\n"
          ]
        }
      ],
      "source": [
        "text_data=\"ab c\"\n",
        "print(len(text_data))"
      ]
    },
    {
      "cell_type": "code",
      "source": [
        "text_data=\"ab c\"\n",
        "print(text_data.rfind('c')) #find index of 'c' in text_data"
      ],
      "metadata": {
        "id": "3gNRJ8h0PnYi",
        "colab": {
          "base_uri": "https://localhost:8080/"
        },
        "outputId": "569deeed-8c38-41b8-f169-dad63ad0e7d0"
      },
      "execution_count": 5,
      "outputs": [
        {
          "output_type": "stream",
          "name": "stdout",
          "text": [
            "3\n"
          ]
        }
      ]
    },
    {
      "cell_type": "code",
      "execution_count": 11,
      "metadata": {
        "colab": {
          "base_uri": "https://localhost:8080/"
        },
        "id": "xf1fiSrM9RtB",
        "outputId": "ebf71da6-b061-4212-da09-29989f1ba28f"
      },
      "outputs": [
        {
          "output_type": "stream",
          "name": "stdout",
          "text": [
            "0\n",
            "4\n",
            "15\n"
          ]
        }
      ],
      "source": [
        "txt = \"Hello, welcome to my world.\"\n",
        "print(txt.index(\"H\"))\n",
        "print(txt.index(\"o\"))\n",
        "print(txt.index(\"to\"))"
      ]
    },
    {
      "cell_type": "code",
      "execution_count": 15,
      "metadata": {
        "id": "Yh9oTwGe0xNR",
        "colab": {
          "base_uri": "https://localhost:8080/"
        },
        "outputId": "aa455f70-eb25-46b3-ffda-9a7516325748"
      },
      "outputs": [
        {
          "output_type": "stream",
          "name": "stdout",
          "text": [
            "2\n",
            "<class 'str'>\n"
          ]
        }
      ],
      "source": [
        "text_data=\"ab #c\"\n",
        "print(text_data.find(' '))\n",
        "print(type(text_data[2]))"
      ]
    },
    {
      "cell_type": "code",
      "execution_count": 18,
      "metadata": {
        "id": "huGhTJ3tMk-5",
        "colab": {
          "base_uri": "https://localhost:8080/"
        },
        "outputId": "c89319a2-6509-4b9d-d462-b1baa13c899d"
      },
      "outputs": [
        {
          "output_type": "stream",
          "name": "stdout",
          "text": [
            "A\n",
            "ABCD\n",
            "CD\n"
          ]
        }
      ],
      "source": [
        "t1=\"ABCDEFGH\"\n",
        "print(t1[0])\n",
        "print(t1[:4])\n",
        "print(t1[2:4])"
      ]
    },
    {
      "cell_type": "code",
      "execution_count": 23,
      "metadata": {
        "id": "U7BvyeFVIpv6",
        "colab": {
          "base_uri": "https://localhost:8080/"
        },
        "outputId": "24c3c264-0674-48ab-954c-c635eede9709"
      },
      "outputs": [
        {
          "output_type": "stream",
          "name": "stdout",
          "text": [
            "p\n",
            "y\n",
            "t\n",
            "h\n",
            "o\n",
            "n\n",
            " \n",
            "p\n",
            "r\n",
            "o\n",
            "g\n",
            "r\n",
            "a\n",
            "m\n",
            "m\n",
            "i\n",
            "n\n",
            "g\n"
          ]
        }
      ],
      "source": [
        "text_da_ta=\"python programming\"\n",
        "for j1 in text_da_ta:\n",
        "  print(j1)"
      ]
    },
    {
      "cell_type": "code",
      "execution_count": 25,
      "metadata": {
        "id": "AC-hRbSaw1MO",
        "colab": {
          "base_uri": "https://localhost:8080/"
        },
        "outputId": "03f6b107-5a5b-49ed-dc88-2e77ef2f7ff6"
      },
      "outputs": [
        {
          "output_type": "stream",
          "name": "stdout",
          "text": [
            "python\n",
            "python\n",
            "python\n",
            "python\n",
            "python\n",
            "python\n"
          ]
        }
      ],
      "source": [
        "text_data1=\"python\"\n",
        "for j in text_data1:\n",
        "  print(text_data1)"
      ]
    },
    {
      "cell_type": "code",
      "execution_count": 26,
      "metadata": {
        "id": "1f3kpn5qJD2r",
        "colab": {
          "base_uri": "https://localhost:8080/"
        },
        "outputId": "37d2a57d-340a-4aa8-c2d6-bf9853a3ead4"
      },
      "outputs": [
        {
          "output_type": "stream",
          "name": "stdout",
          "text": [
            "0\n",
            "1\n",
            "2\n",
            "3\n",
            "4\n",
            "5\n"
          ]
        }
      ],
      "source": [
        "text_data2=\"python\"\n",
        "for j in text_data2:\n",
        "  print(text_data2.index(j))"
      ]
    },
    {
      "cell_type": "code",
      "execution_count": 27,
      "metadata": {
        "id": "2QaorJdtPPIB",
        "colab": {
          "base_uri": "https://localhost:8080/"
        },
        "outputId": "fc1b670a-2825-4da6-ba99-3bfc7547c99e"
      },
      "outputs": [
        {
          "output_type": "stream",
          "name": "stdout",
          "text": [
            "6\n"
          ]
        }
      ],
      "source": [
        "data1= \"python programming\"\n",
        "print(data1.index(data1[6]))"
      ]
    },
    {
      "cell_type": "code",
      "execution_count": null,
      "metadata": {
        "id": "3tTn_cGwJx3J"
      },
      "outputs": [],
      "source": [
        "def test_message(str_data):\n",
        "  for j in range(len(str_data)):\n",
        "    print(str_data[j])\n",
        "test_data=\"python 1\"\n",
        "test_message(test_data)"
      ]
    },
    {
      "cell_type": "code",
      "execution_count": null,
      "metadata": {
        "id": "nBo1gBqkBh3b",
        "colab": {
          "base_uri": "https://localhost:8080/"
        },
        "outputId": "ec303d16-8046-4420-f29b-1ed56168088a"
      },
      "outputs": [
        {
          "output_type": "stream",
          "name": "stdout",
          "text": [
            "False\n"
          ]
        }
      ],
      "source": [
        "s1=\"\\10u\"\n",
        "print(s1.isnumeric())"
      ]
    },
    {
      "cell_type": "code",
      "source": [
        "s =\"034t56789\"\n",
        "print(s.isnumeric())"
      ],
      "metadata": {
        "id": "RrSSSqn6jxDU"
      },
      "execution_count": null,
      "outputs": []
    },
    {
      "cell_type": "code",
      "source": [
        "strr1 = \"902w\"\n",
        "\n",
        "if strr1[3].isdigit():\n",
        "    print(\"User input is an Integer \")\n",
        "else:\n",
        "    print(\"User input is string \")"
      ],
      "metadata": {
        "colab": {
          "base_uri": "https://localhost:8080/"
        },
        "id": "fyqRHEj8oFSg",
        "outputId": "d6ec544b-6be2-42d7-9a55-d389221cb9c0"
      },
      "execution_count": null,
      "outputs": [
        {
          "output_type": "stream",
          "name": "stdout",
          "text": [
            "User input is string \n"
          ]
        }
      ]
    },
    {
      "cell_type": "code",
      "execution_count": null,
      "metadata": {
        "id": "bnhKBivRKiur",
        "colab": {
          "base_uri": "https://localhost:8080/"
        },
        "outputId": "fffdad18-1ba5-4b41-9127-452508838f61"
      },
      "outputs": [
        {
          "output_type": "stream",
          "name": "stdout",
          "text": [
            "Data science using Python\n"
          ]
        }
      ],
      "source": [
        "str1=\"Data science \"\n",
        "str2=\"using Python\"\n",
        "def combine_strings(s1,s2):\n",
        "  print(s1+s2)\n",
        "combine_strings(str1,str2)"
      ]
    },
    {
      "cell_type": "code",
      "execution_count": null,
      "metadata": {
        "id": "aV1GUz-ULa6u"
      },
      "outputs": [],
      "source": [
        "str1=\"Data science \"\n",
        "str2=\"using Python \"\n",
        "str3=\"course code 505\"\n",
        "def combine_strings(s1,s2,s3):\n",
        "  print(s1+s2+s3)\n",
        "combine_strings(str1,str2,str3)"
      ]
    },
    {
      "cell_type": "code",
      "execution_count": null,
      "metadata": {
        "colab": {
          "background_save": true
        },
        "id": "BYeqsGauLuxy"
      },
      "outputs": [],
      "source": [
        "m=' hlw '\n",
        "n='Krea '\n",
        "print(m+n+\"Wlcm\")\n"
      ]
    },
    {
      "cell_type": "code",
      "execution_count": null,
      "metadata": {
        "id": "SRdB5-HbM7XK"
      },
      "outputs": [],
      "source": [
        "# print with %s\n",
        "name='krea'\n",
        "user_name=\"test\"\n",
        "print(\"Hello %s your profile is: %s\" %(name,user_name))"
      ]
    },
    {
      "cell_type": "code",
      "execution_count": null,
      "metadata": {
        "id": "AFOLZlv_CgRJ"
      },
      "outputs": [],
      "source": [
        "me=\"Ritam\"\n",
        "roommate=\"Allu\"\n",
        "print(\"Hello I am %s, my roommate is %s.\"%(me,roommate))\n",
        "print(\"Hello I am\",me,\", my roommate is\",roommate,\".\")"
      ]
    },
    {
      "cell_type": "code",
      "execution_count": null,
      "metadata": {
        "id": "tghUj5JtN8w0"
      },
      "outputs": [],
      "source": [
        "#format print\n",
        "name=\"Ritam\"\n",
        "user=\"test\"\n",
        "id=\"123\"\n",
        "print('Hello {} profile: {} ur id is {}'.format(user,name,id))"
      ]
    },
    {
      "cell_type": "code",
      "execution_count": null,
      "metadata": {
        "id": "mSlQn_oOPwhn"
      },
      "outputs": [],
      "source": [
        "data= \"python programming\"\n",
        "print(data[0:6])\n",
        "print(data[-9:-4])\n",
        "print(data[-15])"
      ]
    },
    {
      "cell_type": "code",
      "execution_count": null,
      "metadata": {
        "id": "szGCG8l7Q_qX"
      },
      "outputs": [],
      "source": [
        "data= \"pythonProgramming\"\n",
        "r1=list(data)\n",
        "print(r1)"
      ]
    },
    {
      "cell_type": "code",
      "execution_count": null,
      "metadata": {
        "id": "TuNKH1ySRjSS"
      },
      "outputs": [],
      "source": [
        "data=\"string in python\"\n",
        "#print(len(data))\n",
        "print(\"string\" in data)\n",
        "print(\"success\" in data)\n",
        "print(\" in python\" in data)"
      ]
    },
    {
      "cell_type": "code",
      "execution_count": null,
      "metadata": {
        "id": "HsI8ODgdSIq4"
      },
      "outputs": [],
      "source": [
        "data=\"string in pythonn\"\n",
        "if 'pythonn' in data:\n",
        "  print(\"yes pythonn is there\")\n",
        "else:\n",
        "  print(\"no pythonn is not there\")"
      ]
    },
    {
      "cell_type": "code",
      "execution_count": null,
      "metadata": {
        "id": "gtcCi5TkSxFH"
      },
      "outputs": [],
      "source": [
        "stock=[\"Tata\",\"apple\"]\n",
        "stock.append(\"Tesla\")\n",
        "print(stock[2])\n",
        "stock.pop(0)\n",
        "print(stock)"
      ]
    },
    {
      "cell_type": "code",
      "execution_count": null,
      "metadata": {
        "colab": {
          "background_save": true
        },
        "id": "Yo40_qlzmRas"
      },
      "outputs": [],
      "source": [
        "stock=[\"Tata\",\"apple\",\"tesla\",\"ageg\",\"ssoahdb\",\"shahidm\"]\n",
        "print(stock)\n",
        "stock.remove(\"apple\")\n",
        "print(stock)"
      ]
    },
    {
      "cell_type": "code",
      "execution_count": null,
      "metadata": {
        "id": "gLnYQhGVKlQi"
      },
      "outputs": [],
      "source": [
        "#substring\n",
        "str=['a','b',['c','x','y','z'],'d']\n",
        "print(str[2][1:3])"
      ]
    },
    {
      "cell_type": "code",
      "execution_count": null,
      "metadata": {
        "id": "oQYmdii9URhE"
      },
      "outputs": [],
      "source": [
        "Session 10 below"
      ]
    },
    {
      "cell_type": "code",
      "execution_count": null,
      "metadata": {
        "id": "p7965Cddwd7t"
      },
      "outputs": [],
      "source": [
        "s=\"am kolaokok ko am I\"\n",
        "n=s.count(\"a\")\n",
        "print(n)\n"
      ]
    },
    {
      "cell_type": "code",
      "source": [
        "text1 = input(\"Enter a word/sentence/paragraph: \")\n",
        "\n",
        "acount=0\n",
        "for i in text1:\n",
        "    if i == 'a':\n",
        "        acount += 1\n",
        "\n",
        "print(\"The character 'a' occurs\", acount, \"times\")\n"
      ],
      "metadata": {
        "id": "4PzZjU5Kz2Cx"
      },
      "execution_count": null,
      "outputs": []
    },
    {
      "cell_type": "code",
      "source": [
        "# Get input from user\n",
        "n = int(input(\"Enter the number of terms in the Fibonacci sequence: \"))\n",
        "\n",
        "# Initialize the first two terms\n",
        "a, b = 0, 1\n",
        "\n",
        "# Initialize a list to store the Fibonacci sequence\n",
        "fib = [a, b]\n",
        "\n",
        "# Generate the Fibonacci sequence up until the nth term\n",
        "for i in range(2, n):\n",
        "    c = a + b\n",
        "    a = b\n",
        "    b = c\n",
        "    fib.append(c)\n",
        "\n",
        "# Display the Fibonacci sequence\n",
        "print(\"The Fibonacci sequence up until the\", n, \"th term is:\")\n",
        "print(fib)\n"
      ],
      "metadata": {
        "colab": {
          "base_uri": "https://localhost:8080/"
        },
        "id": "eXSVE7cs4Bpk",
        "outputId": "3a6accc4-4005-4a02-a9f9-943b5d610645"
      },
      "execution_count": null,
      "outputs": [
        {
          "output_type": "stream",
          "name": "stdout",
          "text": [
            "Enter the number of terms in the Fibonacci sequence: 4\n",
            "The Fibonacci sequence up until the 4 th term is:\n",
            "[0, 1, 1, 2]\n"
          ]
        }
      ]
    },
    {
      "cell_type": "code",
      "execution_count": null,
      "metadata": {
        "id": "aQyEe_h6UUFD"
      },
      "outputs": [],
      "source": [
        "#rstrip - elements last empty space\n",
        "seq=['gjk','hqog','yqp','apssn','jhsnm','ATYSU']\n",
        "test='Hello  World   '\n",
        "L=list(test)\n",
        "print(L)\n",
        "L_new=list(test.rstrip())\n",
        "print(L_new)"
      ]
    },
    {
      "cell_type": "code",
      "execution_count": null,
      "metadata": {
        "id": "p20KWJMpWqUE"
      },
      "outputs": [],
      "source": [
        "def APPLYTOEACH(L,f):\n",
        "  for i in range(len(L)):\n",
        "    L[i]=f(L[i])\n",
        "    print(\"L[\",i,\"]=\",L[i])\n",
        "  return L\n",
        "\n",
        "L=[1,-23,4.56]\n",
        "print(APPLYTOEACH(L,abs))"
      ]
    },
    {
      "cell_type": "code",
      "execution_count": null,
      "metadata": {
        "id": "jkphloFvaIcW"
      },
      "outputs": [],
      "source": [
        "def facto(n):\n",
        "  result=1\n",
        "  while n>1:\n",
        "    result=result*n\n",
        "    n=n-1\n",
        "  return result\n",
        "def APPLYTOEACH(L,f):\n",
        "  for i in range(len(L)):\n",
        "    L[i]=facto(L[i])\n",
        "    print(\"L[\",i,\"]=\",L[i])\n",
        "  return L\n",
        "\n",
        "L=[1,-23,5]\n",
        "print(L)\n",
        "print(APPLYTOEACH(L,abs))"
      ]
    },
    {
      "cell_type": "code",
      "execution_count": null,
      "metadata": {
        "id": "vMrgcybDY5dx"
      },
      "outputs": [],
      "source": [
        "#string practice question session 8\n",
        "#3\n",
        "#Below is the currency conversion table for INR to world currencies\n",
        "#1 USD = 82.5252682\n",
        "#1 EUR = 88.2805919\n",
        "#1 GBP = 99.8015844\n",
        "#1 AED = 22.4519031\n",
        "#1 SAR = 21.9817856\n",
        "#Write a python function to convert an input world currency to INR.\n",
        "def cur_to_INR(curr,a):\n",
        "  if curr==\"USD\":\n",
        "    INR=a*82.5252682\n",
        "  elif curr==\"EUR\":\n",
        "    INR=a*88.2805919\n",
        "  elif curr==\"GBP\":\n",
        "    INR=a*99.8015844\n",
        "  elif curr==\"AED\":\n",
        "    INR=a*22.4519031\n",
        "  elif curr==\"SAR\":\n",
        "    INR=a*21.9817856\n",
        "  else:\n",
        "    print(\"Not correct code for currency\")\n",
        "  print(\"In Indian Currency %s %s = %s\"%(a,curr,INR))\n",
        "\n",
        "amount=int(input(\"Enter amount:\"))\n",
        "currency=input(\"Enter Currency type between: USD,EUR,GBP,AED,SAR :\")\n",
        "cur_to_INR(currency,amount)"
      ]
    }
  ],
  "metadata": {
    "colab": {
      "provenance": [],
      "authorship_tag": "ABX9TyPy0tt5uME2i9seVSSU83xK",
      "include_colab_link": true
    },
    "kernelspec": {
      "display_name": "Python 3",
      "name": "python3"
    },
    "language_info": {
      "name": "python"
    }
  },
  "nbformat": 4,
  "nbformat_minor": 0
}