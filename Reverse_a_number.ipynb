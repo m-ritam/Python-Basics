{
  "cells": [
    {
      "cell_type": "markdown",
      "metadata": {
        "id": "view-in-github",
        "colab_type": "text"
      },
      "source": [
        "<a href=\"https://colab.research.google.com/github/m-ritam/Python-Basics/blob/main/Reverse_a_number.ipynb\" target=\"_parent\"><img src=\"https://colab.research.google.com/assets/colab-badge.svg\" alt=\"Open In Colab\"/></a>"
      ]
    },
    {
      "cell_type": "markdown",
      "source": [
        "#Reverse a number"
      ],
      "metadata": {
        "id": "IQyNPlSaUhrE"
      }
    },
    {
      "cell_type": "code",
      "execution_count": 9,
      "metadata": {
        "id": "8LQr42EjHir4",
        "colab": {
          "base_uri": "https://localhost:8080/"
        },
        "outputId": "f8587b58-0541-45b7-c03f-aa639f98c272"
      },
      "outputs": [
        {
          "output_type": "stream",
          "name": "stdout",
          "text": [
            "Enter number:34\n",
            "43\n"
          ]
        }
      ],
      "source": [
        "# Method 1\n",
        "\n",
        "n=int(input('Enter number:'))\n",
        "rev=0\n",
        "while(0<n):\n",
        "    d=n%10\n",
        "    rev=(rev*10)+d\n",
        "    n=n//10\n",
        "\n",
        "print(rev)"
      ]
    },
    {
      "cell_type": "code",
      "source": [
        "# Method 2\n",
        "\n",
        "n=int(input('Enter number:'))\n",
        "reverse=0\n",
        "while(n>0):\n",
        "  remainder=n%10\n",
        "  reverse=(reverse*10)+remainder\n",
        "  n=n//10\n",
        "print('Reverse =',reverse)"
      ],
      "metadata": {
        "id": "NC0ncYJTmCHZ",
        "colab": {
          "base_uri": "https://localhost:8080/"
        },
        "outputId": "63163259-616a-439c-846d-6bc6fdcc3981"
      },
      "execution_count": 11,
      "outputs": [
        {
          "output_type": "stream",
          "name": "stdout",
          "text": [
            "Enter number:456\n",
            "Reverse = 654\n"
          ]
        }
      ]
    },
    {
      "cell_type": "code",
      "source": [
        "# Method 3 - taking input as str then reverse it, as int can't be reversed.\n",
        "\n",
        "n=input(\"Enter the 5 digit number: \")\n",
        "#z=n\n",
        "r=n[::-1]\n",
        "print(r)"
      ],
      "metadata": {
        "id": "d6VsS7JS_xHX",
        "colab": {
          "base_uri": "https://localhost:8080/"
        },
        "outputId": "e2899aee-1087-4d65-82fe-35d1c43004ee"
      },
      "execution_count": 10,
      "outputs": [
        {
          "output_type": "stream",
          "name": "stdout",
          "text": [
            "Enter the 5 digit number: 67\n",
            "76\n"
          ]
        }
      ]
    },
    {
      "cell_type": "code",
      "source": [
        "n = input(\"Enter the 5-digit number: \")  # Take input as a string\n",
        "r=int(n[::-1]) # Reverse, convert to int\n",
        "print(r)"
      ],
      "metadata": {
        "id": "6AwIEADRlWlq",
        "colab": {
          "base_uri": "https://localhost:8080/"
        },
        "outputId": "ee100633-b925-4751-9471-e0b5c866d515"
      },
      "execution_count": 17,
      "outputs": [
        {
          "output_type": "stream",
          "name": "stdout",
          "text": [
            "Enter the 5-digit number: 567\n",
            "765\n"
          ]
        }
      ]
    }
  ],
  "metadata": {
    "colab": {
      "provenance": [],
      "authorship_tag": "ABX9TyNq6b3D5yXmikRsT5i9+laF",
      "include_colab_link": true
    },
    "kernelspec": {
      "display_name": "Python 3",
      "name": "python3"
    },
    "language_info": {
      "name": "python"
    }
  },
  "nbformat": 4,
  "nbformat_minor": 0
}