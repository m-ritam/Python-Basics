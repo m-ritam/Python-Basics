{
  "nbformat": 4,
  "nbformat_minor": 0,
  "metadata": {
    "colab": {
      "provenance": [],
      "authorship_tag": "ABX9TyM8ilqq/Jb6PKExf5eCS//4",
      "include_colab_link": true
    },
    "kernelspec": {
      "name": "python3",
      "display_name": "Python 3"
    },
    "language_info": {
      "name": "python"
    }
  },
  "cells": [
    {
      "cell_type": "markdown",
      "metadata": {
        "id": "view-in-github",
        "colab_type": "text"
      },
      "source": [
        "<a href=\"https://colab.research.google.com/github/m-ritam/Python-Basics/blob/main/Define_a_function.ipynb\" target=\"_parent\"><img src=\"https://colab.research.google.com/assets/colab-badge.svg\" alt=\"Open In Colab\"/></a>"
      ]
    },
    {
      "cell_type": "code",
      "source": [
        "def square(s):\n",
        "  return print(s*s)\n",
        "\n",
        "square(5)"
      ],
      "metadata": {
        "colab": {
          "base_uri": "https://localhost:8080/"
        },
        "id": "H36SGIiKbh3d",
        "outputId": "019ed7cb-438f-4323-cd4e-0c3161b04783"
      },
      "execution_count": 4,
      "outputs": [
        {
          "output_type": "stream",
          "name": "stdout",
          "text": [
            "25\n"
          ]
        }
      ]
    },
    {
      "cell_type": "code",
      "execution_count": 7,
      "metadata": {
        "id": "HdLkUnr19k4z",
        "colab": {
          "base_uri": "https://localhost:8080/"
        },
        "outputId": "90be42d5-1269-408e-9b06-82ccf3fe6eb4"
      },
      "outputs": [
        {
          "name": "stdout",
          "output_type": "stream",
          "text": [
            "ENter\n",
            "76\n"
          ]
        },
        {
          "output_type": "execute_result",
          "data": {
            "text/plain": [
              "79"
            ]
          },
          "metadata": {},
          "execution_count": 7
        }
      ],
      "source": [
        "x=int(input('ENter\\n'))\n",
        "def add3(x):\n",
        "    return x+3\n",
        "add3(x)"
      ]
    },
    {
      "cell_type": "code",
      "source": [
        "def add1(x):\n",
        "  return x+1\n",
        "yz=int(input('Enter number='))\n",
        "add1(yz)\n",
        "\n"
      ],
      "metadata": {
        "colab": {
          "base_uri": "https://localhost:8080/"
        },
        "id": "mBC8VgFO-Gnp",
        "outputId": "2264b9f7-c097-4334-de71-a66a718a385e"
      },
      "execution_count": 5,
      "outputs": [
        {
          "name": "stdout",
          "output_type": "stream",
          "text": [
            "Enter number=67\n"
          ]
        },
        {
          "output_type": "execute_result",
          "data": {
            "text/plain": [
              "68"
            ]
          },
          "metadata": {},
          "execution_count": 5
        }
      ]
    },
    {
      "cell_type": "code",
      "source": [
        "def add(x,y):\n",
        "        return x+y\n",
        "result  = add(1,2)\n",
        "print(result)\n"
      ],
      "metadata": {
        "id": "ojBgFO26_hin",
        "colab": {
          "base_uri": "https://localhost:8080/"
        },
        "outputId": "f2604b74-ea59-45c0-c68c-74646e84523a"
      },
      "execution_count": null,
      "outputs": [
        {
          "output_type": "stream",
          "name": "stdout",
          "text": [
            "3\n"
          ]
        }
      ]
    },
    {
      "cell_type": "code",
      "source": [
        "a=int(input('a='))\n",
        "b=int(input('b='))\n",
        "c=int(input('c='))\n",
        "def zfunc(a,b,c):\n",
        "  return a+(b*c)\n",
        "z= zfunc(a,b,c)\n",
        "print(z)"
      ],
      "metadata": {
        "id": "Le1w6ZWWAUlS",
        "colab": {
          "base_uri": "https://localhost:8080/"
        },
        "outputId": "e3ce0b46-d74f-46be-9c31-760ced3bd91e"
      },
      "execution_count": 8,
      "outputs": [
        {
          "output_type": "stream",
          "name": "stdout",
          "text": [
            "a=3\n",
            "b=4\n",
            "c=5\n",
            "23\n"
          ]
        }
      ]
    }
  ]
}